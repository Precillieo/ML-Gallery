{
 "cells": [
  {
   "cell_type": "markdown",
   "metadata": {
    "papermill": {
     "duration": 0.05087,
     "end_time": "2020-11-22T06:37:57.456878",
     "exception": false,
     "start_time": "2020-11-22T06:37:57.406008",
     "status": "completed"
    },
    "tags": []
   },
   "source": [
    "# Introduction :An interpretation of the data with respect to the Movie.\n",
    "                                                                 \n",
    "                                         \n",
    "In this notebook , the titanic dataset is explored with relevance to the perspectives that were been projected in the famous James Cameron movie Titanic based on the tragic story of the RMS Titanic , in the cold Atlantic Ocean. Now , lets not get deep in the story , which might lead us nowhere near to the solution. But if one may question , how the story has thrown light on this dataset , my answer is , the certain facts that were shown in the movie , which will be supported by the graphs as we go through the notebook ,helped me in Feature selection. \n",
    "\n"
   ]
  },
  {
   "cell_type": "markdown",
   "metadata": {
    "papermill": {
     "duration": 0.048921,
     "end_time": "2020-11-22T06:37:57.554873",
     "exception": false,
     "start_time": "2020-11-22T06:37:57.505952",
     "status": "completed"
    },
    "tags": []
   },
   "source": [
    "<img src=\"https://cdn.britannica.com/79/4679-050-BC127236/Titanic.jpg\">"
   ]
  },
  {
   "cell_type": "markdown",
   "metadata": {
    "papermill": {
     "duration": 0.049101,
     "end_time": "2020-11-22T06:37:57.653476",
     "exception": false,
     "start_time": "2020-11-22T06:37:57.604375",
     "status": "completed"
    },
    "tags": []
   },
   "source": [
    "***Bon Voyage !!***"
   ]
  },
  {
   "cell_type": "markdown",
   "metadata": {
    "papermill": {
     "duration": 0.048886,
     "end_time": "2020-11-22T06:37:57.751316",
     "exception": false,
     "start_time": "2020-11-22T06:37:57.702430",
     "status": "completed"
    },
    "tags": []
   },
   "source": [
    "# Playing with data :\n",
    "\n",
    "As the title suggests , I have no experience of how things are in Kaggle , thus the \"playing\" is sort of a , playing with borrowed toys."
   ]
  },
  {
   "cell_type": "code",
   "execution_count": 1,
   "metadata": {
    "_cell_guid": "b1076dfc-b9ad-4769-8c92-a6c4dae69d19",
    "_uuid": "8f2839f25d086af736a60e9eeb907d3b93b6e0e5",
    "execution": {
     "iopub.execute_input": "2020-11-22T06:37:57.858233Z",
     "iopub.status.busy": "2020-11-22T06:37:57.857336Z",
     "iopub.status.idle": "2020-11-22T06:37:57.863722Z",
     "shell.execute_reply": "2020-11-22T06:37:57.862917Z"
    },
    "papermill": {
     "duration": 0.062127,
     "end_time": "2020-11-22T06:37:57.863844",
     "exception": false,
     "start_time": "2020-11-22T06:37:57.801717",
     "status": "completed"
    },
    "tags": []
   },
   "outputs": [],
   "source": [
    "import numpy as np # linear algebra\n",
    "import pandas as pd # data processing, CSV file I/O (e.g. pd.read_csv)\n",
    "\n",
    "import os\n",
    "for dirname, _, filenames in os.walk('/kaggle/input'):\n",
    "    for filename in filenames:\n",
    "        print(os.path.join(dirname, filename))"
   ]
  },
  {
   "cell_type": "code",
   "execution_count": 2,
   "metadata": {
    "_cell_guid": "79c7e3d0-c299-4dcb-8224-4455121ee9b0",
    "_uuid": "d629ff2d2480ee46fbb7e2d37f6b5fab8052498a",
    "execution": {
     "iopub.execute_input": "2020-11-22T06:37:57.968450Z",
     "iopub.status.busy": "2020-11-22T06:37:57.967728Z",
     "iopub.status.idle": "2020-11-22T06:37:58.818322Z",
     "shell.execute_reply": "2020-11-22T06:37:58.816869Z"
    },
    "papermill": {
     "duration": 0.904174,
     "end_time": "2020-11-22T06:37:58.818451",
     "exception": false,
     "start_time": "2020-11-22T06:37:57.914277",
     "status": "completed"
    },
    "tags": []
   },
   "outputs": [],
   "source": [
    "import matplotlib.pyplot as plt\n",
    "import sklearn\n",
    "import seaborn as sb"
   ]
  },
  {
   "cell_type": "markdown",
   "metadata": {
    "papermill": {
     "duration": 0.050353,
     "end_time": "2020-11-22T06:37:58.919123",
     "exception": false,
     "start_time": "2020-11-22T06:37:58.868770",
     "status": "completed"
    },
    "tags": []
   },
   "source": [
    "* Loading the datasets"
   ]
  },
  {
   "cell_type": "code",
   "execution_count": 3,
   "metadata": {
    "execution": {
     "iopub.execute_input": "2020-11-22T06:37:59.025935Z",
     "iopub.status.busy": "2020-11-22T06:37:59.025065Z",
     "iopub.status.idle": "2020-11-22T06:37:59.061086Z",
     "shell.execute_reply": "2020-11-22T06:37:59.061652Z"
    },
    "papermill": {
     "duration": 0.092371,
     "end_time": "2020-11-22T06:37:59.061819",
     "exception": false,
     "start_time": "2020-11-22T06:37:58.969448",
     "status": "completed"
    },
    "tags": []
   },
   "outputs": [
    {
     "data": {
      "text/html": [
       "<div>\n",
       "<style scoped>\n",
       "    .dataframe tbody tr th:only-of-type {\n",
       "        vertical-align: middle;\n",
       "    }\n",
       "\n",
       "    .dataframe tbody tr th {\n",
       "        vertical-align: top;\n",
       "    }\n",
       "\n",
       "    .dataframe thead th {\n",
       "        text-align: right;\n",
       "    }\n",
       "</style>\n",
       "<table border=\"1\" class=\"dataframe\">\n",
       "  <thead>\n",
       "    <tr style=\"text-align: right;\">\n",
       "      <th></th>\n",
       "      <th>PassengerId</th>\n",
       "      <th>Survived</th>\n",
       "      <th>Pclass</th>\n",
       "      <th>Name</th>\n",
       "      <th>Sex</th>\n",
       "      <th>Age</th>\n",
       "      <th>SibSp</th>\n",
       "      <th>Parch</th>\n",
       "      <th>Ticket</th>\n",
       "      <th>Fare</th>\n",
       "      <th>Cabin</th>\n",
       "      <th>Embarked</th>\n",
       "    </tr>\n",
       "  </thead>\n",
       "  <tbody>\n",
       "    <tr>\n",
       "      <th>0</th>\n",
       "      <td>1</td>\n",
       "      <td>0</td>\n",
       "      <td>3</td>\n",
       "      <td>Braund, Mr. Owen Harris</td>\n",
       "      <td>male</td>\n",
       "      <td>22.0</td>\n",
       "      <td>1</td>\n",
       "      <td>0</td>\n",
       "      <td>A/5 21171</td>\n",
       "      <td>7.2500</td>\n",
       "      <td>NaN</td>\n",
       "      <td>S</td>\n",
       "    </tr>\n",
       "    <tr>\n",
       "      <th>1</th>\n",
       "      <td>2</td>\n",
       "      <td>1</td>\n",
       "      <td>1</td>\n",
       "      <td>Cumings, Mrs. John Bradley (Florence Briggs Th...</td>\n",
       "      <td>female</td>\n",
       "      <td>38.0</td>\n",
       "      <td>1</td>\n",
       "      <td>0</td>\n",
       "      <td>PC 17599</td>\n",
       "      <td>71.2833</td>\n",
       "      <td>C85</td>\n",
       "      <td>C</td>\n",
       "    </tr>\n",
       "    <tr>\n",
       "      <th>2</th>\n",
       "      <td>3</td>\n",
       "      <td>1</td>\n",
       "      <td>3</td>\n",
       "      <td>Heikkinen, Miss. Laina</td>\n",
       "      <td>female</td>\n",
       "      <td>26.0</td>\n",
       "      <td>0</td>\n",
       "      <td>0</td>\n",
       "      <td>STON/O2. 3101282</td>\n",
       "      <td>7.9250</td>\n",
       "      <td>NaN</td>\n",
       "      <td>S</td>\n",
       "    </tr>\n",
       "    <tr>\n",
       "      <th>3</th>\n",
       "      <td>4</td>\n",
       "      <td>1</td>\n",
       "      <td>1</td>\n",
       "      <td>Futrelle, Mrs. Jacques Heath (Lily May Peel)</td>\n",
       "      <td>female</td>\n",
       "      <td>35.0</td>\n",
       "      <td>1</td>\n",
       "      <td>0</td>\n",
       "      <td>113803</td>\n",
       "      <td>53.1000</td>\n",
       "      <td>C123</td>\n",
       "      <td>S</td>\n",
       "    </tr>\n",
       "    <tr>\n",
       "      <th>4</th>\n",
       "      <td>5</td>\n",
       "      <td>0</td>\n",
       "      <td>3</td>\n",
       "      <td>Allen, Mr. William Henry</td>\n",
       "      <td>male</td>\n",
       "      <td>35.0</td>\n",
       "      <td>0</td>\n",
       "      <td>0</td>\n",
       "      <td>373450</td>\n",
       "      <td>8.0500</td>\n",
       "      <td>NaN</td>\n",
       "      <td>S</td>\n",
       "    </tr>\n",
       "  </tbody>\n",
       "</table>\n",
       "</div>"
      ],
      "text/plain": [
       "   PassengerId  Survived  Pclass  \\\n",
       "0            1         0       3   \n",
       "1            2         1       1   \n",
       "2            3         1       3   \n",
       "3            4         1       1   \n",
       "4            5         0       3   \n",
       "\n",
       "                                                Name     Sex   Age  SibSp  \\\n",
       "0                            Braund, Mr. Owen Harris    male  22.0      1   \n",
       "1  Cumings, Mrs. John Bradley (Florence Briggs Th...  female  38.0      1   \n",
       "2                             Heikkinen, Miss. Laina  female  26.0      0   \n",
       "3       Futrelle, Mrs. Jacques Heath (Lily May Peel)  female  35.0      1   \n",
       "4                           Allen, Mr. William Henry    male  35.0      0   \n",
       "\n",
       "   Parch            Ticket     Fare Cabin Embarked  \n",
       "0      0         A/5 21171   7.2500   NaN        S  \n",
       "1      0          PC 17599  71.2833   C85        C  \n",
       "2      0  STON/O2. 3101282   7.9250   NaN        S  \n",
       "3      0            113803  53.1000  C123        S  \n",
       "4      0            373450   8.0500   NaN        S  "
      ]
     },
     "execution_count": 3,
     "metadata": {},
     "output_type": "execute_result"
    }
   ],
   "source": [
    "train = pd.read_csv('./kaggle/input/titanic/train.csv')\n",
    "test = pd.read_csv('./kaggle/input/titanic/test.csv')\n",
    "train.head()"
   ]
  },
  {
   "cell_type": "markdown",
   "metadata": {
    "papermill": {
     "duration": 0.050301,
     "end_time": "2020-11-22T06:37:59.164502",
     "exception": false,
     "start_time": "2020-11-22T06:37:59.114201",
     "status": "completed"
    },
    "tags": []
   },
   "source": [
    "* Combining the train and test datasets."
   ]
  },
  {
   "cell_type": "code",
   "execution_count": 4,
   "metadata": {
    "execution": {
     "iopub.execute_input": "2020-11-22T06:37:59.278970Z",
     "iopub.status.busy": "2020-11-22T06:37:59.278200Z",
     "iopub.status.idle": "2020-11-22T06:37:59.280610Z",
     "shell.execute_reply": "2020-11-22T06:37:59.281201Z"
    },
    "papermill": {
     "duration": 0.065324,
     "end_time": "2020-11-22T06:37:59.281318",
     "exception": false,
     "start_time": "2020-11-22T06:37:59.215994",
     "status": "completed"
    },
    "tags": []
   },
   "outputs": [],
   "source": [
    "combine = [train,test]"
   ]
  },
  {
   "cell_type": "markdown",
   "metadata": {
    "papermill": {
     "duration": 0.050817,
     "end_time": "2020-11-22T06:37:59.384880",
     "exception": false,
     "start_time": "2020-11-22T06:37:59.334063",
     "status": "completed"
    },
    "tags": []
   },
   "source": [
    "* Checking the error or missing value percentages of each feature."
   ]
  },
  {
   "cell_type": "code",
   "execution_count": 5,
   "metadata": {
    "execution": {
     "iopub.execute_input": "2020-11-22T06:37:59.494623Z",
     "iopub.status.busy": "2020-11-22T06:37:59.493741Z",
     "iopub.status.idle": "2020-11-22T06:37:59.503381Z",
     "shell.execute_reply": "2020-11-22T06:37:59.502833Z"
    },
    "papermill": {
     "duration": 0.067981,
     "end_time": "2020-11-22T06:37:59.503480",
     "exception": false,
     "start_time": "2020-11-22T06:37:59.435499",
     "status": "completed"
    },
    "tags": []
   },
   "outputs": [
    {
     "name": "stdout",
     "output_type": "stream",
     "text": [
      "PassengerId 0.0\n",
      "Survived 0.0\n",
      "Pclass 0.0\n",
      "Name 0.0\n",
      "Sex 0.0\n",
      "Age 19.865319865319865\n",
      "SibSp 0.0\n",
      "Parch 0.0\n",
      "Ticket 0.0\n",
      "Fare 0.0\n",
      "Cabin 77.10437710437711\n",
      "Embarked 0.2244668911335578\n"
     ]
    }
   ],
   "source": [
    "for c in train.columns:\n",
    "    print(c, str(100*train[c].isnull().sum()/len(train)))\n"
   ]
  },
  {
   "cell_type": "markdown",
   "metadata": {
    "papermill": {
     "duration": 0.050696,
     "end_time": "2020-11-22T06:37:59.605688",
     "exception": false,
     "start_time": "2020-11-22T06:37:59.554992",
     "status": "completed"
    },
    "tags": []
   },
   "source": [
    "We see there are missing values in *Age* , *Cabin* and *Embarked* data. As the values of Cabin are in string , we are going to disregard it. According to the movie and common human sentiments , we will use the age values."
   ]
  },
  {
   "cell_type": "code",
   "execution_count": 6,
   "metadata": {
    "execution": {
     "iopub.execute_input": "2020-11-22T06:37:59.713352Z",
     "iopub.status.busy": "2020-11-22T06:37:59.712625Z",
     "iopub.status.idle": "2020-11-22T06:37:59.715110Z",
     "shell.execute_reply": "2020-11-22T06:37:59.715625Z"
    },
    "papermill": {
     "duration": 0.058876,
     "end_time": "2020-11-22T06:37:59.715748",
     "exception": false,
     "start_time": "2020-11-22T06:37:59.656872",
     "status": "completed"
    },
    "tags": []
   },
   "outputs": [],
   "source": [
    "train['Age'] = train['Age'].fillna(train['Age'].mean())"
   ]
  },
  {
   "cell_type": "markdown",
   "metadata": {
    "papermill": {
     "duration": 0.052653,
     "end_time": "2020-11-22T06:37:59.819378",
     "exception": false,
     "start_time": "2020-11-22T06:37:59.766725",
     "status": "completed"
    },
    "tags": []
   },
   "source": [
    "Here , I have replaced the missing values of age with the average of all the ages of the people who boarded the Titanic.\n"
   ]
  },
  {
   "cell_type": "code",
   "execution_count": 7,
   "metadata": {
    "execution": {
     "iopub.execute_input": "2020-11-22T06:37:59.932193Z",
     "iopub.status.busy": "2020-11-22T06:37:59.931299Z",
     "iopub.status.idle": "2020-11-22T06:37:59.939182Z",
     "shell.execute_reply": "2020-11-22T06:37:59.938133Z"
    },
    "papermill": {
     "duration": 0.068758,
     "end_time": "2020-11-22T06:37:59.939340",
     "exception": false,
     "start_time": "2020-11-22T06:37:59.870582",
     "status": "completed"
    },
    "tags": []
   },
   "outputs": [
    {
     "name": "stdout",
     "output_type": "stream",
     "text": [
      "PassengerId 0.0\n",
      "Survived 0.0\n",
      "Pclass 0.0\n",
      "Name 0.0\n",
      "Sex 0.0\n",
      "Age 0.0\n",
      "SibSp 0.0\n",
      "Parch 0.0\n",
      "Ticket 0.0\n",
      "Fare 0.0\n",
      "Cabin 77.10437710437711\n",
      "Embarked 0.2244668911335578\n"
     ]
    }
   ],
   "source": [
    "for c in train.columns:\n",
    "    print(c, str(100*train[c].isnull().sum()/len(train)))"
   ]
  },
  {
   "cell_type": "markdown",
   "metadata": {
    "papermill": {
     "duration": 0.051558,
     "end_time": "2020-11-22T06:38:00.043610",
     "exception": false,
     "start_time": "2020-11-22T06:37:59.992052",
     "status": "completed"
    },
    "tags": []
   },
   "source": [
    "Now we can see that there are no missing values in Age column."
   ]
  },
  {
   "cell_type": "markdown",
   "metadata": {
    "papermill": {
     "duration": 0.051812,
     "end_time": "2020-11-22T06:38:00.147231",
     "exception": false,
     "start_time": "2020-11-22T06:38:00.095419",
     "status": "completed"
    },
    "tags": []
   },
   "source": [
    "* Checking how many people from differnt class and sex had survived."
   ]
  },
  {
   "cell_type": "code",
   "execution_count": 8,
   "metadata": {
    "execution": {
     "iopub.execute_input": "2020-11-22T06:38:00.273575Z",
     "iopub.status.busy": "2020-11-22T06:38:00.272749Z",
     "iopub.status.idle": "2020-11-22T06:38:00.277520Z",
     "shell.execute_reply": "2020-11-22T06:38:00.276739Z"
    },
    "papermill": {
     "duration": 0.077943,
     "end_time": "2020-11-22T06:38:00.277641",
     "exception": false,
     "start_time": "2020-11-22T06:38:00.199698",
     "status": "completed"
    },
    "tags": []
   },
   "outputs": [
    {
     "name": "stdout",
     "output_type": "stream",
     "text": [
      "   Pclass  Survived\n",
      "0       1  0.629630\n",
      "1       2  0.472826\n",
      "2       3  0.242363\n",
      "      Sex  Survived\n",
      "0  female  0.742038\n",
      "1    male  0.188908\n"
     ]
    }
   ],
   "source": [
    "dependencies_sex = train[['Sex', 'Survived']].groupby(['Sex'],as_index=False).mean()\n",
    "dependencies_Pclass = train[['Pclass', 'Survived']].groupby(['Pclass'],as_index=False).mean()\n",
    "\n",
    "print(dependencies_Pclass)\n",
    "print(dependencies_sex)"
   ]
  },
  {
   "cell_type": "markdown",
   "metadata": {
    "papermill": {
     "duration": 0.05234,
     "end_time": "2020-11-22T06:38:00.384780",
     "exception": false,
     "start_time": "2020-11-22T06:38:00.332440",
     "status": "completed"
    },
    "tags": []
   },
   "source": [
    "The large difference in the numbers shows that these two features - *Pclass* and *Sex* , have influence on the survival of the boarded passengers. "
   ]
  },
  {
   "cell_type": "markdown",
   "metadata": {
    "papermill": {
     "duration": 0.051954,
     "end_time": "2020-11-22T06:38:00.488914",
     "exception": false,
     "start_time": "2020-11-22T06:38:00.436960",
     "status": "completed"
    },
    "tags": []
   },
   "source": [
    "# Graphs that support my feature selection based on the movie."
   ]
  },
  {
   "cell_type": "markdown",
   "metadata": {
    "papermill": {
     "duration": 0.052556,
     "end_time": "2020-11-22T06:38:00.593845",
     "exception": false,
     "start_time": "2020-11-22T06:38:00.541289",
     "status": "completed"
    },
    "tags": []
   },
   "source": [
    "* Starting off with the survivor count\n"
   ]
  },
  {
   "cell_type": "code",
   "execution_count": 9,
   "metadata": {
    "execution": {
     "iopub.execute_input": "2020-11-22T06:38:00.705230Z",
     "iopub.status.busy": "2020-11-22T06:38:00.704363Z",
     "iopub.status.idle": "2020-11-22T06:38:00.881899Z",
     "shell.execute_reply": "2020-11-22T06:38:00.880919Z"
    },
    "papermill": {
     "duration": 0.235438,
     "end_time": "2020-11-22T06:38:00.882008",
     "exception": false,
     "start_time": "2020-11-22T06:38:00.646570",
     "status": "completed"
    },
    "tags": []
   },
   "outputs": [
    {
     "data": {
      "text/plain": [
       "<AxesSubplot:xlabel='Survived', ylabel='count'>"
      ]
     },
     "execution_count": 9,
     "metadata": {},
     "output_type": "execute_result"
    },
    {
     "data": {
      "image/png": "[encoded data removed]",
      "text/plain": [
       "<Figure size 432x288 with 1 Axes>"
      ]
     },
     "metadata": {},
     "output_type": "display_data"
    }
   ],
   "source": [
    "sb.set_style('whitegrid')\n",
    "sb.countplot(x='Survived',data=train,palette='YlOrBr')\n"
   ]
  },
  {
   "cell_type": "markdown",
   "metadata": {
    "papermill": {
     "duration": 0.053835,
     "end_time": "2020-11-22T06:38:00.991515",
     "exception": false,
     "start_time": "2020-11-22T06:38:00.937680",
     "status": "completed"
    },
    "tags": []
   },
   "source": [
    "* Survivor Count based on Sex "
   ]
  },
  {
   "cell_type": "code",
   "execution_count": 10,
   "metadata": {
    "execution": {
     "iopub.execute_input": "2020-11-22T06:38:01.114316Z",
     "iopub.status.busy": "2020-11-22T06:38:01.104256Z",
     "iopub.status.idle": "2020-11-22T06:38:01.253628Z",
     "shell.execute_reply": "2020-11-22T06:38:01.254121Z"
    },
    "papermill": {
     "duration": 0.209577,
     "end_time": "2020-11-22T06:38:01.254257",
     "exception": false,
     "start_time": "2020-11-22T06:38:01.044680",
     "status": "completed"
    },
    "tags": []
   },
   "outputs": [
    {
     "data": {
      "text/plain": [
       "<AxesSubplot:xlabel='Survived', ylabel='count'>"
      ]
     },
     "execution_count": 10,
     "metadata": {},
     "output_type": "execute_result"
    },
    {
     "data": {
      "image/png": "[encoded data removed]",
      "text/plain": [
       "<Figure size 432x288 with 1 Axes>"
      ]
     },
     "metadata": {},
     "output_type": "display_data"
    }
   ],
   "source": [
    "sb.set_style('whitegrid')\n",
    "sb.countplot(x='Survived',hue='Sex',data=train,palette='rocket')\n"
   ]
  },
  {
   "cell_type": "markdown",
   "metadata": {
    "papermill": {
     "duration": 0.054314,
     "end_time": "2020-11-22T06:38:01.365418",
     "exception": false,
     "start_time": "2020-11-22T06:38:01.311104",
     "status": "completed"
    },
    "tags": []
   },
   "source": [
    "* Survivor Count based on Class of Passenger"
   ]
  },
  {
   "cell_type": "code",
   "execution_count": 11,
   "metadata": {
    "execution": {
     "iopub.execute_input": "2020-11-22T06:38:01.491280Z",
     "iopub.status.busy": "2020-11-22T06:38:01.490629Z",
     "iopub.status.idle": "2020-11-22T06:38:01.672002Z",
     "shell.execute_reply": "2020-11-22T06:38:01.672566Z"
    },
    "papermill": {
     "duration": 0.252569,
     "end_time": "2020-11-22T06:38:01.672699",
     "exception": false,
     "start_time": "2020-11-22T06:38:01.420130",
     "status": "completed"
    },
    "tags": []
   },
   "outputs": [
    {
     "data": {
      "text/plain": [
       "<AxesSubplot:xlabel='Survived', ylabel='count'>"
      ]
     },
     "execution_count": 11,
     "metadata": {},
     "output_type": "execute_result"
    },
    {
     "data": {
      "image/png": "[encoded data removed]",
      "text/plain": [
       "<Figure size 432x288 with 1 Axes>"
      ]
     },
     "metadata": {},
     "output_type": "display_data"
    }
   ],
   "source": [
    "sb.set_style('whitegrid')\n",
    "sb.countplot(x='Survived',hue='Pclass',data=train,palette='icefire')\n"
   ]
  },
  {
   "cell_type": "markdown",
   "metadata": {
    "papermill": {
     "duration": 0.057915,
     "end_time": "2020-11-22T06:38:01.805597",
     "exception": false,
     "start_time": "2020-11-22T06:38:01.747682",
     "status": "completed"
    },
    "tags": []
   },
   "source": [
    "* Survival Count based on Age"
   ]
  },
  {
   "cell_type": "code",
   "execution_count": 12,
   "metadata": {
    "execution": {
     "iopub.execute_input": "2020-11-22T06:38:01.942686Z",
     "iopub.status.busy": "2020-11-22T06:38:01.941722Z",
     "iopub.status.idle": "2020-11-22T06:38:02.791461Z",
     "shell.execute_reply": "2020-11-22T06:38:02.792048Z"
    },
    "papermill": {
     "duration": 0.926824,
     "end_time": "2020-11-22T06:38:02.792205",
     "exception": false,
     "start_time": "2020-11-22T06:38:01.865381",
     "status": "completed"
    },
    "tags": []
   },
   "outputs": [
    {
     "data": {
      "text/plain": [
       "<seaborn.axisgrid.FacetGrid at 0x1b791b12940>"
      ]
     },
     "execution_count": 12,
     "metadata": {},
     "output_type": "execute_result"
    },
    {
     "data": {
      "image/png": "[encoded data removed]",
      "text/plain": [
       "<Figure size 432x216 with 2 Axes>"
      ]
     },
     "metadata": {},
     "output_type": "display_data"
    }
   ],
   "source": [
    "g = sb.FacetGrid(train, col='Survived')\n",
    "g.map(plt.hist, 'Age', bins=20)\n"
   ]
  },
  {
   "cell_type": "markdown",
   "metadata": {
    "papermill": {
     "duration": 0.06276,
     "end_time": "2020-11-22T06:38:02.915898",
     "exception": false,
     "start_time": "2020-11-22T06:38:02.853138",
     "status": "completed"
    },
    "tags": []
   },
   "source": [
    "* Splitting Titles from Names "
   ]
  },
  {
   "cell_type": "code",
   "execution_count": 13,
   "metadata": {
    "execution": {
     "iopub.execute_input": "2020-11-22T06:38:03.049800Z",
     "iopub.status.busy": "2020-11-22T06:38:03.048696Z",
     "iopub.status.idle": "2020-11-22T06:38:03.052132Z",
     "shell.execute_reply": "2020-11-22T06:38:03.051625Z"
    },
    "papermill": {
     "duration": 0.076349,
     "end_time": "2020-11-22T06:38:03.052256",
     "exception": false,
     "start_time": "2020-11-22T06:38:02.975907",
     "status": "completed"
    },
    "tags": []
   },
   "outputs": [],
   "source": [
    "for dats in combine:\n",
    "    dats['Title'] = dats.Name.str.extract('([A-Za-z]+)\\.',expand=False)"
   ]
  },
  {
   "cell_type": "markdown",
   "metadata": {
    "papermill": {
     "duration": 0.056916,
     "end_time": "2020-11-22T06:38:03.170185",
     "exception": false,
     "start_time": "2020-11-22T06:38:03.113269",
     "status": "completed"
    },
    "tags": []
   },
   "source": [
    "* Grouping various Titles under Rare Category."
   ]
  },
  {
   "cell_type": "code",
   "execution_count": 14,
   "metadata": {
    "execution": {
     "iopub.execute_input": "2020-11-22T06:38:03.298680Z",
     "iopub.status.busy": "2020-11-22T06:38:03.297891Z",
     "iopub.status.idle": "2020-11-22T06:38:03.300919Z",
     "shell.execute_reply": "2020-11-22T06:38:03.300447Z"
    },
    "papermill": {
     "duration": 0.073853,
     "end_time": "2020-11-22T06:38:03.301016",
     "exception": false,
     "start_time": "2020-11-22T06:38:03.227163",
     "status": "completed"
    },
    "tags": []
   },
   "outputs": [],
   "source": [
    "for dataset in combine:\n",
    "    dataset['Title'] = dataset['Title'].replace(['Lady', 'Countess','Capt', 'Col',\n",
    " \t'Don', 'Dr', 'Major', 'Rev', 'Sir', 'Jonkheer', 'Dona'], 'Rare')\n",
    "\n",
    "    dataset['Title'] = dataset['Title'].replace('Mlle', 'Miss')\n",
    "    dataset['Title'] = dataset['Title'].replace('Ms', 'Miss')\n",
    "    dataset['Title'] = dataset['Title'].replace('Mme', 'Mrs')"
   ]
  },
  {
   "cell_type": "code",
   "execution_count": 15,
   "metadata": {
    "execution": {
     "iopub.execute_input": "2020-11-22T06:38:03.433129Z",
     "iopub.status.busy": "2020-11-22T06:38:03.432194Z",
     "iopub.status.idle": "2020-11-22T06:38:03.436698Z",
     "shell.execute_reply": "2020-11-22T06:38:03.436215Z"
    },
    "papermill": {
     "duration": 0.078138,
     "end_time": "2020-11-22T06:38:03.436787",
     "exception": false,
     "start_time": "2020-11-22T06:38:03.358649",
     "status": "completed"
    },
    "tags": []
   },
   "outputs": [
    {
     "data": {
      "text/html": [
       "<div>\n",
       "<style scoped>\n",
       "    .dataframe tbody tr th:only-of-type {\n",
       "        vertical-align: middle;\n",
       "    }\n",
       "\n",
       "    .dataframe tbody tr th {\n",
       "        vertical-align: top;\n",
       "    }\n",
       "\n",
       "    .dataframe thead th {\n",
       "        text-align: right;\n",
       "    }\n",
       "</style>\n",
       "<table border=\"1\" class=\"dataframe\">\n",
       "  <thead>\n",
       "    <tr style=\"text-align: right;\">\n",
       "      <th></th>\n",
       "      <th>PassengerId</th>\n",
       "      <th>Survived</th>\n",
       "      <th>Pclass</th>\n",
       "      <th>Name</th>\n",
       "      <th>Sex</th>\n",
       "      <th>Age</th>\n",
       "      <th>SibSp</th>\n",
       "      <th>Parch</th>\n",
       "      <th>Ticket</th>\n",
       "      <th>Fare</th>\n",
       "      <th>Cabin</th>\n",
       "      <th>Embarked</th>\n",
       "      <th>Title</th>\n",
       "    </tr>\n",
       "  </thead>\n",
       "  <tbody>\n",
       "    <tr>\n",
       "      <th>0</th>\n",
       "      <td>1</td>\n",
       "      <td>0</td>\n",
       "      <td>3</td>\n",
       "      <td>Braund, Mr. Owen Harris</td>\n",
       "      <td>male</td>\n",
       "      <td>22.0</td>\n",
       "      <td>1</td>\n",
       "      <td>0</td>\n",
       "      <td>A/5 21171</td>\n",
       "      <td>7.2500</td>\n",
       "      <td>NaN</td>\n",
       "      <td>S</td>\n",
       "      <td>Mr</td>\n",
       "    </tr>\n",
       "    <tr>\n",
       "      <th>1</th>\n",
       "      <td>2</td>\n",
       "      <td>1</td>\n",
       "      <td>1</td>\n",
       "      <td>Cumings, Mrs. John Bradley (Florence Briggs Th...</td>\n",
       "      <td>female</td>\n",
       "      <td>38.0</td>\n",
       "      <td>1</td>\n",
       "      <td>0</td>\n",
       "      <td>PC 17599</td>\n",
       "      <td>71.2833</td>\n",
       "      <td>C85</td>\n",
       "      <td>C</td>\n",
       "      <td>Mrs</td>\n",
       "    </tr>\n",
       "    <tr>\n",
       "      <th>2</th>\n",
       "      <td>3</td>\n",
       "      <td>1</td>\n",
       "      <td>3</td>\n",
       "      <td>Heikkinen, Miss. Laina</td>\n",
       "      <td>female</td>\n",
       "      <td>26.0</td>\n",
       "      <td>0</td>\n",
       "      <td>0</td>\n",
       "      <td>STON/O2. 3101282</td>\n",
       "      <td>7.9250</td>\n",
       "      <td>NaN</td>\n",
       "      <td>S</td>\n",
       "      <td>Miss</td>\n",
       "    </tr>\n",
       "    <tr>\n",
       "      <th>3</th>\n",
       "      <td>4</td>\n",
       "      <td>1</td>\n",
       "      <td>1</td>\n",
       "      <td>Futrelle, Mrs. Jacques Heath (Lily May Peel)</td>\n",
       "      <td>female</td>\n",
       "      <td>35.0</td>\n",
       "      <td>1</td>\n",
       "      <td>0</td>\n",
       "      <td>113803</td>\n",
       "      <td>53.1000</td>\n",
       "      <td>C123</td>\n",
       "      <td>S</td>\n",
       "      <td>Mrs</td>\n",
       "    </tr>\n",
       "    <tr>\n",
       "      <th>4</th>\n",
       "      <td>5</td>\n",
       "      <td>0</td>\n",
       "      <td>3</td>\n",
       "      <td>Allen, Mr. William Henry</td>\n",
       "      <td>male</td>\n",
       "      <td>35.0</td>\n",
       "      <td>0</td>\n",
       "      <td>0</td>\n",
       "      <td>373450</td>\n",
       "      <td>8.0500</td>\n",
       "      <td>NaN</td>\n",
       "      <td>S</td>\n",
       "      <td>Mr</td>\n",
       "    </tr>\n",
       "  </tbody>\n",
       "</table>\n",
       "</div>"
      ],
      "text/plain": [
       "   PassengerId  Survived  Pclass  \\\n",
       "0            1         0       3   \n",
       "1            2         1       1   \n",
       "2            3         1       3   \n",
       "3            4         1       1   \n",
       "4            5         0       3   \n",
       "\n",
       "                                                Name     Sex   Age  SibSp  \\\n",
       "0                            Braund, Mr. Owen Harris    male  22.0      1   \n",
       "1  Cumings, Mrs. John Bradley (Florence Briggs Th...  female  38.0      1   \n",
       "2                             Heikkinen, Miss. Laina  female  26.0      0   \n",
       "3       Futrelle, Mrs. Jacques Heath (Lily May Peel)  female  35.0      1   \n",
       "4                           Allen, Mr. William Henry    male  35.0      0   \n",
       "\n",
       "   Parch            Ticket     Fare Cabin Embarked Title  \n",
       "0      0         A/5 21171   7.2500   NaN        S    Mr  \n",
       "1      0          PC 17599  71.2833   C85        C   Mrs  \n",
       "2      0  STON/O2. 3101282   7.9250   NaN        S  Miss  \n",
       "3      0            113803  53.1000  C123        S   Mrs  \n",
       "4      0            373450   8.0500   NaN        S    Mr  "
      ]
     },
     "execution_count": 15,
     "metadata": {},
     "output_type": "execute_result"
    }
   ],
   "source": [
    "train.head()"
   ]
  },
  {
   "cell_type": "markdown",
   "metadata": {
    "papermill": {
     "duration": 0.096868,
     "end_time": "2020-11-22T06:38:03.596780",
     "exception": false,
     "start_time": "2020-11-22T06:38:03.499912",
     "status": "completed"
    },
    "tags": []
   },
   "source": [
    "* Label Encoding Titles. "
   ]
  },
  {
   "cell_type": "code",
   "execution_count": 16,
   "metadata": {
    "execution": {
     "iopub.execute_input": "2020-11-22T06:38:03.742410Z",
     "iopub.status.busy": "2020-11-22T06:38:03.740492Z",
     "iopub.status.idle": "2020-11-22T06:38:03.754272Z",
     "shell.execute_reply": "2020-11-22T06:38:03.755365Z"
    },
    "papermill": {
     "duration": 0.100091,
     "end_time": "2020-11-22T06:38:03.755685",
     "exception": false,
     "start_time": "2020-11-22T06:38:03.655594",
     "status": "completed"
    },
    "tags": []
   },
   "outputs": [],
   "source": [
    "title_mapping = {\"Mr\": 1, \"Miss\": 2, \"Mrs\": 3, \"Master\": 4, \"Rare\": 5}\n",
    "for dataset in combine:\n",
    "    dataset['Title'] = dataset['Title'].map(title_mapping)\n",
    "    dataset['Title'] = dataset['Title'].fillna(0)"
   ]
  },
  {
   "cell_type": "code",
   "execution_count": 17,
   "metadata": {
    "execution": {
     "iopub.execute_input": "2020-11-22T06:38:03.960378Z",
     "iopub.status.busy": "2020-11-22T06:38:03.959449Z",
     "iopub.status.idle": "2020-11-22T06:38:03.976779Z",
     "shell.execute_reply": "2020-11-22T06:38:03.977993Z"
    },
    "papermill": {
     "duration": 0.121401,
     "end_time": "2020-11-22T06:38:03.978194",
     "exception": false,
     "start_time": "2020-11-22T06:38:03.856793",
     "status": "completed"
    },
    "tags": []
   },
   "outputs": [
    {
     "data": {
      "text/html": [
       "<div>\n",
       "<style scoped>\n",
       "    .dataframe tbody tr th:only-of-type {\n",
       "        vertical-align: middle;\n",
       "    }\n",
       "\n",
       "    .dataframe tbody tr th {\n",
       "        vertical-align: top;\n",
       "    }\n",
       "\n",
       "    .dataframe thead th {\n",
       "        text-align: right;\n",
       "    }\n",
       "</style>\n",
       "<table border=\"1\" class=\"dataframe\">\n",
       "  <thead>\n",
       "    <tr style=\"text-align: right;\">\n",
       "      <th></th>\n",
       "      <th>PassengerId</th>\n",
       "      <th>Survived</th>\n",
       "      <th>Pclass</th>\n",
       "      <th>Name</th>\n",
       "      <th>Sex</th>\n",
       "      <th>Age</th>\n",
       "      <th>SibSp</th>\n",
       "      <th>Parch</th>\n",
       "      <th>Ticket</th>\n",
       "      <th>Fare</th>\n",
       "      <th>Cabin</th>\n",
       "      <th>Embarked</th>\n",
       "      <th>Title</th>\n",
       "    </tr>\n",
       "  </thead>\n",
       "  <tbody>\n",
       "    <tr>\n",
       "      <th>0</th>\n",
       "      <td>1</td>\n",
       "      <td>0</td>\n",
       "      <td>3</td>\n",
       "      <td>Braund, Mr. Owen Harris</td>\n",
       "      <td>male</td>\n",
       "      <td>22.0</td>\n",
       "      <td>1</td>\n",
       "      <td>0</td>\n",
       "      <td>A/5 21171</td>\n",
       "      <td>7.2500</td>\n",
       "      <td>NaN</td>\n",
       "      <td>S</td>\n",
       "      <td>1</td>\n",
       "    </tr>\n",
       "    <tr>\n",
       "      <th>1</th>\n",
       "      <td>2</td>\n",
       "      <td>1</td>\n",
       "      <td>1</td>\n",
       "      <td>Cumings, Mrs. John Bradley (Florence Briggs Th...</td>\n",
       "      <td>female</td>\n",
       "      <td>38.0</td>\n",
       "      <td>1</td>\n",
       "      <td>0</td>\n",
       "      <td>PC 17599</td>\n",
       "      <td>71.2833</td>\n",
       "      <td>C85</td>\n",
       "      <td>C</td>\n",
       "      <td>3</td>\n",
       "    </tr>\n",
       "    <tr>\n",
       "      <th>2</th>\n",
       "      <td>3</td>\n",
       "      <td>1</td>\n",
       "      <td>3</td>\n",
       "      <td>Heikkinen, Miss. Laina</td>\n",
       "      <td>female</td>\n",
       "      <td>26.0</td>\n",
       "      <td>0</td>\n",
       "      <td>0</td>\n",
       "      <td>STON/O2. 3101282</td>\n",
       "      <td>7.9250</td>\n",
       "      <td>NaN</td>\n",
       "      <td>S</td>\n",
       "      <td>2</td>\n",
       "    </tr>\n",
       "    <tr>\n",
       "      <th>3</th>\n",
       "      <td>4</td>\n",
       "      <td>1</td>\n",
       "      <td>1</td>\n",
       "      <td>Futrelle, Mrs. Jacques Heath (Lily May Peel)</td>\n",
       "      <td>female</td>\n",
       "      <td>35.0</td>\n",
       "      <td>1</td>\n",
       "      <td>0</td>\n",
       "      <td>113803</td>\n",
       "      <td>53.1000</td>\n",
       "      <td>C123</td>\n",
       "      <td>S</td>\n",
       "      <td>3</td>\n",
       "    </tr>\n",
       "    <tr>\n",
       "      <th>4</th>\n",
       "      <td>5</td>\n",
       "      <td>0</td>\n",
       "      <td>3</td>\n",
       "      <td>Allen, Mr. William Henry</td>\n",
       "      <td>male</td>\n",
       "      <td>35.0</td>\n",
       "      <td>0</td>\n",
       "      <td>0</td>\n",
       "      <td>373450</td>\n",
       "      <td>8.0500</td>\n",
       "      <td>NaN</td>\n",
       "      <td>S</td>\n",
       "      <td>1</td>\n",
       "    </tr>\n",
       "  </tbody>\n",
       "</table>\n",
       "</div>"
      ],
      "text/plain": [
       "   PassengerId  Survived  Pclass  \\\n",
       "0            1         0       3   \n",
       "1            2         1       1   \n",
       "2            3         1       3   \n",
       "3            4         1       1   \n",
       "4            5         0       3   \n",
       "\n",
       "                                                Name     Sex   Age  SibSp  \\\n",
       "0                            Braund, Mr. Owen Harris    male  22.0      1   \n",
       "1  Cumings, Mrs. John Bradley (Florence Briggs Th...  female  38.0      1   \n",
       "2                             Heikkinen, Miss. Laina  female  26.0      0   \n",
       "3       Futrelle, Mrs. Jacques Heath (Lily May Peel)  female  35.0      1   \n",
       "4                           Allen, Mr. William Henry    male  35.0      0   \n",
       "\n",
       "   Parch            Ticket     Fare Cabin Embarked  Title  \n",
       "0      0         A/5 21171   7.2500   NaN        S      1  \n",
       "1      0          PC 17599  71.2833   C85        C      3  \n",
       "2      0  STON/O2. 3101282   7.9250   NaN        S      2  \n",
       "3      0            113803  53.1000  C123        S      3  \n",
       "4      0            373450   8.0500   NaN        S      1  "
      ]
     },
     "execution_count": 17,
     "metadata": {},
     "output_type": "execute_result"
    }
   ],
   "source": [
    "train.head()"
   ]
  },
  {
   "cell_type": "markdown",
   "metadata": {
    "papermill": {
     "duration": 0.090274,
     "end_time": "2020-11-22T06:38:04.162554",
     "exception": false,
     "start_time": "2020-11-22T06:38:04.072280",
     "status": "completed"
    },
    "tags": []
   },
   "source": [
    "Now we can see that under the Column Title , instead of *Mr.* , *Mrs.* , *Miss* , etc. , there are numbers 1-5 , representing the 5 different Titles."
   ]
  },
  {
   "cell_type": "markdown",
   "metadata": {
    "papermill": {
     "duration": 0.118914,
     "end_time": "2020-11-22T06:38:04.371030",
     "exception": false,
     "start_time": "2020-11-22T06:38:04.252116",
     "status": "completed"
    },
    "tags": []
   },
   "source": [
    "* Here we see how the survival of the passengers depend on the *Sex* and *Title*. ( There are 2 rows with Title as 5 , which represents the Rare category , and it implies that females of high classes were favoured over all )"
   ]
  },
  {
   "cell_type": "code",
   "execution_count": 18,
   "metadata": {
    "execution": {
     "iopub.execute_input": "2020-11-22T06:38:04.561625Z",
     "iopub.status.busy": "2020-11-22T06:38:04.561026Z",
     "iopub.status.idle": "2020-11-22T06:38:04.570772Z",
     "shell.execute_reply": "2020-11-22T06:38:04.571870Z"
    },
    "papermill": {
     "duration": 0.115679,
     "end_time": "2020-11-22T06:38:04.572033",
     "exception": false,
     "start_time": "2020-11-22T06:38:04.456354",
     "status": "completed"
    },
    "tags": []
   },
   "outputs": [
    {
     "data": {
      "text/html": [
       "<div>\n",
       "<style scoped>\n",
       "    .dataframe tbody tr th:only-of-type {\n",
       "        vertical-align: middle;\n",
       "    }\n",
       "\n",
       "    .dataframe tbody tr th {\n",
       "        vertical-align: top;\n",
       "    }\n",
       "\n",
       "    .dataframe thead th {\n",
       "        text-align: right;\n",
       "    }\n",
       "</style>\n",
       "<table border=\"1\" class=\"dataframe\">\n",
       "  <thead>\n",
       "    <tr style=\"text-align: right;\">\n",
       "      <th></th>\n",
       "      <th>Title</th>\n",
       "      <th>Sex</th>\n",
       "      <th>Survived</th>\n",
       "    </tr>\n",
       "  </thead>\n",
       "  <tbody>\n",
       "    <tr>\n",
       "      <th>0</th>\n",
       "      <td>1</td>\n",
       "      <td>male</td>\n",
       "      <td>0.156673</td>\n",
       "    </tr>\n",
       "    <tr>\n",
       "      <th>1</th>\n",
       "      <td>2</td>\n",
       "      <td>female</td>\n",
       "      <td>0.702703</td>\n",
       "    </tr>\n",
       "    <tr>\n",
       "      <th>2</th>\n",
       "      <td>3</td>\n",
       "      <td>female</td>\n",
       "      <td>0.793651</td>\n",
       "    </tr>\n",
       "    <tr>\n",
       "      <th>3</th>\n",
       "      <td>4</td>\n",
       "      <td>male</td>\n",
       "      <td>0.575000</td>\n",
       "    </tr>\n",
       "    <tr>\n",
       "      <th>4</th>\n",
       "      <td>5</td>\n",
       "      <td>female</td>\n",
       "      <td>1.000000</td>\n",
       "    </tr>\n",
       "    <tr>\n",
       "      <th>5</th>\n",
       "      <td>5</td>\n",
       "      <td>male</td>\n",
       "      <td>0.250000</td>\n",
       "    </tr>\n",
       "  </tbody>\n",
       "</table>\n",
       "</div>"
      ],
      "text/plain": [
       "   Title     Sex  Survived\n",
       "0      1    male  0.156673\n",
       "1      2  female  0.702703\n",
       "2      3  female  0.793651\n",
       "3      4    male  0.575000\n",
       "4      5  female  1.000000\n",
       "5      5    male  0.250000"
      ]
     },
     "execution_count": 18,
     "metadata": {},
     "output_type": "execute_result"
    }
   ],
   "source": [
    "title_dependencies=train[['Title','Survived','Sex']].groupby(['Title','Sex'],as_index=False).mean()\n",
    "\n",
    "title_dependencies"
   ]
  },
  {
   "cell_type": "markdown",
   "metadata": {
    "papermill": {
     "duration": 0.076777,
     "end_time": "2020-11-22T06:38:04.718232",
     "exception": false,
     "start_time": "2020-11-22T06:38:04.641455",
     "status": "completed"
    },
    "tags": []
   },
   "source": [
    "# Selecting the final features !!"
   ]
  },
  {
   "cell_type": "markdown",
   "metadata": {
    "papermill": {
     "duration": 0.082631,
     "end_time": "2020-11-22T06:38:04.882873",
     "exception": false,
     "start_time": "2020-11-22T06:38:04.800242",
     "status": "completed"
    },
    "tags": []
   },
   "source": [
    "<img src=\"https://64.media.tumblr.com/37e6f5cd93269829406ccb5bbccf34e0/tumblr_pezn7j41oN1qzs7uio4_r1_400.gifv\">"
   ]
  },
  {
   "cell_type": "markdown",
   "metadata": {
    "papermill": {
     "duration": 0.061747,
     "end_time": "2020-11-22T06:38:05.039798",
     "exception": false,
     "start_time": "2020-11-22T06:38:04.978051",
     "status": "completed"
    },
    "tags": []
   },
   "source": [
    "According to the movie , the Children and the Women , obviously in the decrasing order of their class , were allowed to board the life boats first. Remember the scene were the crew were shouthing , *\" Women and Children First !!\"*. Thus the selection of the *Sex* , *Age* and the *Pclass* as a valid feature for the prediction. As we have clearly seen that people of high social stature had a cent percent chance of survival , thus the *Title* column is also a valid feature. \n",
    "\n",
    "Now , the *Parch* and *SibSp* feature , which represents parents and children, and siblings and spouse , is also a valid feature , because parents and children were not to be separated , and siblings and spouse too. Thus , those passengers who were travelling alone were left behind. \n",
    "\n",
    "The reason behind dropping , *Cabin* , *Embarked* and *Ticket* feature is , that in the data *Ticket* , there are too many mixed data type , and that doesnt help us figure out the survival of the passengers ; in the *Cabin* data , there were too many missing values , although it might have been useful , because the cabin position had an inportant role in the survival as the lower cabins were filled with water first ; the *Embarked* data has nothing to do with the survival , because the port of embarkation did not determine the fate of the passengers, although , upon speculations one may find patterns in the data. \n",
    "\n",
    "What we can see is , that the prejudice of people of certain social backgrounds determined the survival of the passengers.  "
   ]
  },
  {
   "cell_type": "code",
   "execution_count": 19,
   "metadata": {
    "execution": {
     "iopub.execute_input": "2020-11-22T06:38:05.173001Z",
     "iopub.status.busy": "2020-11-22T06:38:05.172103Z",
     "iopub.status.idle": "2020-11-22T06:38:05.190423Z",
     "shell.execute_reply": "2020-11-22T06:38:05.191340Z"
    },
    "papermill": {
     "duration": 0.090433,
     "end_time": "2020-11-22T06:38:05.191492",
     "exception": false,
     "start_time": "2020-11-22T06:38:05.101059",
     "status": "completed"
    },
    "tags": []
   },
   "outputs": [
    {
     "name": "stdout",
     "output_type": "stream",
     "text": [
      "   Survived  Pclass     Sex   Age  SibSp  Parch     Fare  Title\n",
      "0         0       3    male  22.0      1      0   7.2500      1\n",
      "1         1       1  female  38.0      1      0  71.2833      3\n",
      "2         1       3  female  26.0      0      0   7.9250      2\n",
      "3         1       1  female  35.0      1      0  53.1000      3\n",
      "4         0       3    male  35.0      0      0   8.0500      1\n",
      "   Survived  Pclass  Sex   Age  SibSp  Parch     Fare  Title\n",
      "0         0       3    0  22.0      1      0   7.2500      1\n",
      "1         1       1    1  38.0      1      0  71.2833      3\n",
      "2         1       3    1  26.0      0      0   7.9250      2\n",
      "3         1       1    1  35.0      1      0  53.1000      3\n",
      "4         0       3    0  35.0      0      0   8.0500      1\n",
      "   Pclass  Sex   Age  SibSp  Parch     Fare  Title\n",
      "0       3    0  34.5      0      0   7.8292      1\n",
      "1       3    1  47.0      1      0   7.0000      3\n",
      "2       2    0  62.0      0      0   9.6875      1\n",
      "3       3    0  27.0      0      0   8.6625      1\n",
      "4       3    1  22.0      1      1  12.2875      3\n"
     ]
    }
   ],
   "source": [
    "train = train.drop(['Name', 'PassengerId', 'Cabin', 'Embarked','Ticket'], axis=1)\n",
    "test = test.drop(['Name', 'PassengerId', 'Cabin', 'Embarked','Ticket'], axis=1)\n",
    "\n",
    "combine=[train,test]\n",
    "\n",
    "print(train.head())\n",
    "\n",
    "for dataset in combine:\n",
    "    dataset['Sex'] = dataset['Sex'].map( {'female': 1, 'male': 0}).astype(int)\n",
    "\n",
    "print(train.head())\n",
    "print (test.head())\n"
   ]
  },
  {
   "cell_type": "markdown",
   "metadata": {
    "papermill": {
     "duration": 0.063008,
     "end_time": "2020-11-22T06:38:05.320246",
     "exception": false,
     "start_time": "2020-11-22T06:38:05.257238",
     "status": "completed"
    },
    "tags": []
   },
   "source": [
    "# Splitting Training data "
   ]
  },
  {
   "cell_type": "code",
   "execution_count": 20,
   "metadata": {
    "execution": {
     "iopub.execute_input": "2020-11-22T06:38:05.447838Z",
     "iopub.status.busy": "2020-11-22T06:38:05.447177Z",
     "iopub.status.idle": "2020-11-22T06:38:05.522310Z",
     "shell.execute_reply": "2020-11-22T06:38:05.521445Z"
    },
    "papermill": {
     "duration": 0.140725,
     "end_time": "2020-11-22T06:38:05.522421",
     "exception": false,
     "start_time": "2020-11-22T06:38:05.381696",
     "status": "completed"
    },
    "tags": []
   },
   "outputs": [],
   "source": [
    "from sklearn.model_selection import train_test_split\n",
    "X_train, X_test , Y_train, Y_test = train_test_split(train.drop(['Survived'],axis=1),train['Survived'],test_size=0.10,random_state=None)"
   ]
  },
  {
   "cell_type": "markdown",
   "metadata": {
    "papermill": {
     "duration": 0.059792,
     "end_time": "2020-11-22T06:38:05.642957",
     "exception": false,
     "start_time": "2020-11-22T06:38:05.583165",
     "status": "completed"
    },
    "tags": []
   },
   "source": [
    "# Applying Logistic Regression :"
   ]
  },
  {
   "cell_type": "code",
   "execution_count": 21,
   "metadata": {
    "execution": {
     "iopub.execute_input": "2020-11-22T06:38:05.767124Z",
     "iopub.status.busy": "2020-11-22T06:38:05.766438Z",
     "iopub.status.idle": "2020-11-22T06:38:05.835824Z",
     "shell.execute_reply": "2020-11-22T06:38:05.835287Z"
    },
    "papermill": {
     "duration": 0.132439,
     "end_time": "2020-11-22T06:38:05.835914",
     "exception": false,
     "start_time": "2020-11-22T06:38:05.703475",
     "status": "completed"
    },
    "tags": []
   },
   "outputs": [],
   "source": [
    "from sklearn.linear_model import LogisticRegression\n",
    "from sklearn import metrics"
   ]
  },
  {
   "cell_type": "code",
   "execution_count": 22,
   "metadata": {
    "execution": {
     "iopub.execute_input": "2020-11-22T06:38:05.964474Z",
     "iopub.status.busy": "2020-11-22T06:38:05.963570Z",
     "iopub.status.idle": "2020-11-22T06:38:05.974924Z",
     "shell.execute_reply": "2020-11-22T06:38:05.975634Z"
    },
    "papermill": {
     "duration": 0.079338,
     "end_time": "2020-11-22T06:38:05.975756",
     "exception": false,
     "start_time": "2020-11-22T06:38:05.896418",
     "status": "completed"
    },
    "tags": []
   },
   "outputs": [
    {
     "data": {
      "text/plain": [
       "LogisticRegression(C=0.21, class_weight=None, dual=False, fit_intercept=True,\n",
       "                   intercept_scaling=1, l1_ratio=None, max_iter=100,\n",
       "                   multi_class='auto', n_jobs=None, penalty='l2',\n",
       "                   random_state=1, solver='liblinear', tol=0.0001, verbose=0,\n",
       "                   warm_start=False)"
      ]
     },
     "execution_count": 22,
     "metadata": {},
     "output_type": "execute_result"
    }
   ],
   "source": [
    "modelLR= LogisticRegression(solver='liblinear',C=0.21,random_state=1)\n",
    "modelLR.fit(X_train,Y_train)\n"
   ]
  },
  {
   "cell_type": "code",
   "execution_count": 23,
   "metadata": {
    "execution": {
     "iopub.execute_input": "2020-11-22T06:38:06.113607Z",
     "iopub.status.busy": "2020-11-22T06:38:06.112905Z",
     "iopub.status.idle": "2020-11-22T06:38:06.116961Z",
     "shell.execute_reply": "2020-11-22T06:38:06.116487Z"
    },
    "papermill": {
     "duration": 0.074762,
     "end_time": "2020-11-22T06:38:06.117073",
     "exception": false,
     "start_time": "2020-11-22T06:38:06.042311",
     "status": "completed"
    },
    "tags": []
   },
   "outputs": [],
   "source": [
    "Y_pred_log=modelLR.predict(X_test)\n",
    "acc_LR = metrics.accuracy_score(Y_test, Y_pred_log)"
   ]
  },
  {
   "cell_type": "code",
   "execution_count": 24,
   "metadata": {
    "execution": {
     "iopub.execute_input": "2020-11-22T06:38:06.254511Z",
     "iopub.status.busy": "2020-11-22T06:38:06.253452Z",
     "iopub.status.idle": "2020-11-22T06:38:06.259093Z",
     "shell.execute_reply": "2020-11-22T06:38:06.258630Z"
    },
    "papermill": {
     "duration": 0.073413,
     "end_time": "2020-11-22T06:38:06.259208",
     "exception": false,
     "start_time": "2020-11-22T06:38:06.185795",
     "status": "completed"
    },
    "tags": []
   },
   "outputs": [
    {
     "name": "stdout",
     "output_type": "stream",
     "text": [
      "[0 1 1 0 0 0 1 0 1 1 0 1 0 0 1 0 1 1 0 0 0 0 0 1 0 0 1 1 0 0 0 0 0 0 1 0 0\n",
      " 1 1 0 0 0 0 0 0 0 0 0 1 0 0 0 0 0 1 0 0 0 0 1 0 0 0 0 1 1 0 0 1 0 0 1 1 1\n",
      " 1 0 0 0 1 1 0 0 1 0 0 0 1 0 0 1]\n",
      "We see that Logistic regression gives an Accuracy of  75.55555555555556 % on the traing set.\n"
     ]
    }
   ],
   "source": [
    "print(Y_pred_log)\n",
    "print(\"We see that Logistic regression gives an Accuracy of \",acc_LR*100,\"% on the traing set.\")\n"
   ]
  },
  {
   "cell_type": "markdown",
   "metadata": {
    "papermill": {
     "duration": 0.064406,
     "end_time": "2020-11-22T06:38:06.387933",
     "exception": false,
     "start_time": "2020-11-22T06:38:06.323527",
     "status": "completed"
    },
    "tags": []
   },
   "source": [
    "# Applying Decision Tree:"
   ]
  },
  {
   "cell_type": "code",
   "execution_count": 25,
   "metadata": {
    "execution": {
     "iopub.execute_input": "2020-11-22T06:38:06.532840Z",
     "iopub.status.busy": "2020-11-22T06:38:06.531938Z",
     "iopub.status.idle": "2020-11-22T06:38:06.613336Z",
     "shell.execute_reply": "2020-11-22T06:38:06.612839Z"
    },
    "papermill": {
     "duration": 0.15776,
     "end_time": "2020-11-22T06:38:06.613444",
     "exception": false,
     "start_time": "2020-11-22T06:38:06.455684",
     "status": "completed"
    },
    "tags": []
   },
   "outputs": [],
   "source": [
    "from sklearn.tree import DecisionTreeClassifier"
   ]
  },
  {
   "cell_type": "code",
   "execution_count": 26,
   "metadata": {
    "execution": {
     "iopub.execute_input": "2020-11-22T06:38:06.753408Z",
     "iopub.status.busy": "2020-11-22T06:38:06.752799Z",
     "iopub.status.idle": "2020-11-22T06:38:06.759686Z",
     "shell.execute_reply": "2020-11-22T06:38:06.759189Z"
    },
    "papermill": {
     "duration": 0.079926,
     "end_time": "2020-11-22T06:38:06.759814",
     "exception": false,
     "start_time": "2020-11-22T06:38:06.679888",
     "status": "completed"
    },
    "tags": []
   },
   "outputs": [],
   "source": [
    "dtree = DecisionTreeClassifier(class_weight=None, criterion='gini', max_depth=1,\n",
    "                       max_features=7, max_leaf_nodes=None,\n",
    "                       min_impurity_decrease=0.0, min_impurity_split=None,\n",
    "                       min_samples_leaf=1, min_samples_split=2,\n",
    "                       min_weight_fraction_leaf=0.0,\n",
    "                       random_state=None, splitter='best')\n",
    "dtree.fit(X_train, Y_train)\n",
    "y_pred_tree = dtree.predict(X_test)"
   ]
  },
  {
   "cell_type": "code",
   "execution_count": 27,
   "metadata": {
    "execution": {
     "iopub.execute_input": "2020-11-22T06:38:06.897499Z",
     "iopub.status.busy": "2020-11-22T06:38:06.896593Z",
     "iopub.status.idle": "2020-11-22T06:38:06.902370Z",
     "shell.execute_reply": "2020-11-22T06:38:06.901671Z"
    },
    "papermill": {
     "duration": 0.07602,
     "end_time": "2020-11-22T06:38:06.902502",
     "exception": false,
     "start_time": "2020-11-22T06:38:06.826482",
     "status": "completed"
    },
    "tags": []
   },
   "outputs": [
    {
     "name": "stdout",
     "output_type": "stream",
     "text": [
      "[0 1 1 0 0 0 0 0 1 1 0 1 1 0 1 0 1 1 1 1 0 0 0 1 0 0 1 0 0 0 0 0 0 0 1 0 0\n",
      " 1 1 0 0 0 0 0 0 0 0 1 0 0 0 0 0 0 1 0 0 0 0 1 0 0 0 0 1 1 0 0 1 0 0 1 1 1\n",
      " 1 0 0 0 1 1 0 0 0 0 0 0 1 0 0 0]\n",
      "We see that Decision Tree gives an Accuracy of  70.0 % on the traing set.\n"
     ]
    }
   ],
   "source": [
    "acc_DT = metrics.accuracy_score(y_pred_tree, Y_test)\n",
    "print(y_pred_tree)\n",
    "print(\"We see that Decision Tree gives an Accuracy of \",acc_DT*100,\"% on the traing set.\")"
   ]
  },
  {
   "cell_type": "markdown",
   "metadata": {
    "papermill": {
     "duration": 0.063406,
     "end_time": "2020-11-22T06:38:07.031307",
     "exception": false,
     "start_time": "2020-11-22T06:38:06.967901",
     "status": "completed"
    },
    "tags": []
   },
   "source": [
    "# Applying Ramndom Forest :"
   ]
  },
  {
   "cell_type": "code",
   "execution_count": 28,
   "metadata": {
    "execution": {
     "iopub.execute_input": "2020-11-22T06:38:07.162430Z",
     "iopub.status.busy": "2020-11-22T06:38:07.161642Z",
     "iopub.status.idle": "2020-11-22T06:38:07.186726Z",
     "shell.execute_reply": "2020-11-22T06:38:07.185938Z"
    },
    "papermill": {
     "duration": 0.092494,
     "end_time": "2020-11-22T06:38:07.186832",
     "exception": false,
     "start_time": "2020-11-22T06:38:07.094338",
     "status": "completed"
    },
    "tags": []
   },
   "outputs": [],
   "source": [
    "from sklearn.ensemble import RandomForestClassifier"
   ]
  },
  {
   "cell_type": "code",
   "execution_count": 29,
   "metadata": {
    "execution": {
     "iopub.execute_input": "2020-11-22T06:38:07.324879Z",
     "iopub.status.busy": "2020-11-22T06:38:07.324020Z",
     "iopub.status.idle": "2020-11-22T06:38:07.385260Z",
     "shell.execute_reply": "2020-11-22T06:38:07.384746Z"
    },
    "papermill": {
     "duration": 0.131904,
     "end_time": "2020-11-22T06:38:07.385357",
     "exception": false,
     "start_time": "2020-11-22T06:38:07.253453",
     "status": "completed"
    },
    "tags": []
   },
   "outputs": [],
   "source": [
    "rforest = RandomForestClassifier(bootstrap=True, class_weight=None, criterion='gini',\n",
    "            max_depth=None, max_features=7, max_leaf_nodes=None,\n",
    "            min_impurity_decrease=0.0, min_impurity_split=None,\n",
    "            min_samples_leaf=1, min_samples_split=2,\n",
    "            min_weight_fraction_leaf=0.0, n_estimators=20, n_jobs=1,\n",
    "            oob_score=False, random_state=42, verbose=0, warm_start=False)\n",
    "rforest.fit(X_train, Y_train)\n",
    "y_pred_forest = rforest.predict(X_test)"
   ]
  },
  {
   "cell_type": "code",
   "execution_count": 30,
   "metadata": {
    "execution": {
     "iopub.execute_input": "2020-11-22T06:38:07.517120Z",
     "iopub.status.busy": "2020-11-22T06:38:07.515893Z",
     "iopub.status.idle": "2020-11-22T06:38:07.519863Z",
     "shell.execute_reply": "2020-11-22T06:38:07.520480Z"
    },
    "papermill": {
     "duration": 0.073758,
     "end_time": "2020-11-22T06:38:07.520623",
     "exception": false,
     "start_time": "2020-11-22T06:38:07.446865",
     "status": "completed"
    },
    "tags": []
   },
   "outputs": [
    {
     "name": "stdout",
     "output_type": "stream",
     "text": [
      "[0 1 0 1 0 0 0 0 1 0 0 1 0 1 1 0 1 1 0 0 0 1 0 1 0 0 1 1 0 0 0 0 0 0 1 1 0\n",
      " 1 0 0 1 1 0 0 0 0 0 0 1 0 0 0 0 0 1 0 0 0 0 1 0 0 0 0 1 1 0 0 1 0 0 1 1 1\n",
      " 1 0 0 0 1 1 0 0 0 0 0 0 1 0 0 0]\n",
      "We see that Random Forest classifier gives an Accuracy of  77.77777777777779 % on the traing set.\n"
     ]
    }
   ],
   "source": [
    "acc_RF = metrics.accuracy_score(y_pred_forest, Y_test)\n",
    "print(y_pred_forest)\n",
    "print(\"We see that Random Forest classifier gives an Accuracy of \",acc_RF*100,\"% on the traing set.\")"
   ]
  },
  {
   "cell_type": "markdown",
   "metadata": {
    "papermill": {
     "duration": 0.062558,
     "end_time": "2020-11-22T06:38:07.655277",
     "exception": false,
     "start_time": "2020-11-22T06:38:07.592719",
     "status": "completed"
    },
    "tags": []
   },
   "source": [
    "# Applying SVC :\n"
   ]
  },
  {
   "cell_type": "code",
   "execution_count": 31,
   "metadata": {
    "execution": {
     "iopub.execute_input": "2020-11-22T06:38:07.784886Z",
     "iopub.status.busy": "2020-11-22T06:38:07.784137Z",
     "iopub.status.idle": "2020-11-22T06:38:07.787186Z",
     "shell.execute_reply": "2020-11-22T06:38:07.786700Z"
    },
    "papermill": {
     "duration": 0.069712,
     "end_time": "2020-11-22T06:38:07.787284",
     "exception": false,
     "start_time": "2020-11-22T06:38:07.717572",
     "status": "completed"
    },
    "tags": []
   },
   "outputs": [],
   "source": [
    "from sklearn.svm import SVC"
   ]
  },
  {
   "cell_type": "code",
   "execution_count": 32,
   "metadata": {
    "execution": {
     "iopub.execute_input": "2020-11-22T06:38:07.931337Z",
     "iopub.status.busy": "2020-11-22T06:38:07.930351Z",
     "iopub.status.idle": "2020-11-22T06:38:07.963056Z",
     "shell.execute_reply": "2020-11-22T06:38:07.962522Z"
    },
    "papermill": {
     "duration": 0.109125,
     "end_time": "2020-11-22T06:38:07.963170",
     "exception": false,
     "start_time": "2020-11-22T06:38:07.854045",
     "status": "completed"
    },
    "tags": []
   },
   "outputs": [],
   "source": [
    "svc = SVC(C=1.0, cache_size=200, class_weight=None, coef0=0.0,\n",
    "  decision_function_shape='ovr', degree=3, gamma='auto', kernel='rbf',\n",
    "  max_iter=-1, probability=False, random_state=None, shrinking=True,\n",
    "  tol=0.001, verbose=False)\n",
    "svc.fit(X_train, Y_train)\n",
    "y_pred_svc = svc.predict(X_test)"
   ]
  },
  {
   "cell_type": "code",
   "execution_count": 33,
   "metadata": {
    "execution": {
     "iopub.execute_input": "2020-11-22T06:38:08.095389Z",
     "iopub.status.busy": "2020-11-22T06:38:08.094581Z",
     "iopub.status.idle": "2020-11-22T06:38:08.098264Z",
     "shell.execute_reply": "2020-11-22T06:38:08.098890Z"
    },
    "papermill": {
     "duration": 0.072979,
     "end_time": "2020-11-22T06:38:08.099048",
     "exception": false,
     "start_time": "2020-11-22T06:38:08.026069",
     "status": "completed"
    },
    "tags": []
   },
   "outputs": [
    {
     "name": "stdout",
     "output_type": "stream",
     "text": [
      "[0 1 1 1 0 0 0 0 1 1 0 1 0 1 0 0 0 1 1 1 0 0 0 1 0 0 1 1 1 0 1 0 0 0 1 1 0\n",
      " 0 0 0 1 1 0 0 0 0 1 0 1 0 0 0 0 0 1 0 0 0 0 1 0 0 0 0 1 1 0 0 1 0 0 1 1 0\n",
      " 1 0 0 1 0 1 0 0 0 0 0 0 0 0 0 1]\n",
      "We see that SVC classifier gives an Accuracy of  73.33333333333333 % on the traing set.\n"
     ]
    }
   ],
   "source": [
    "acc_SVC = metrics.accuracy_score(y_pred_svc, Y_test)\n",
    "print(y_pred_svc)\n",
    "print(\"We see that SVC classifier gives an Accuracy of \",acc_SVC*100,\"% on the traing set.\")"
   ]
  },
  {
   "cell_type": "markdown",
   "metadata": {
    "papermill": {
     "duration": 0.062658,
     "end_time": "2020-11-22T06:38:08.225397",
     "exception": false,
     "start_time": "2020-11-22T06:38:08.162739",
     "status": "completed"
    },
    "tags": []
   },
   "source": [
    "# Applying Gradient Boosting:"
   ]
  },
  {
   "cell_type": "code",
   "execution_count": 34,
   "metadata": {
    "execution": {
     "iopub.execute_input": "2020-11-22T06:38:08.356537Z",
     "iopub.status.busy": "2020-11-22T06:38:08.355825Z",
     "iopub.status.idle": "2020-11-22T06:38:10.366768Z",
     "shell.execute_reply": "2020-11-22T06:38:10.365592Z"
    },
    "papermill": {
     "duration": 2.077781,
     "end_time": "2020-11-22T06:38:10.366888",
     "exception": false,
     "start_time": "2020-11-22T06:38:08.289107",
     "status": "completed"
    },
    "tags": []
   },
   "outputs": [],
   "source": [
    "from xgboost import XGBClassifier"
   ]
  },
  {
   "cell_type": "code",
   "execution_count": 35,
   "metadata": {
    "execution": {
     "iopub.execute_input": "2020-11-22T06:38:10.503984Z",
     "iopub.status.busy": "2020-11-22T06:38:10.503272Z",
     "iopub.status.idle": "2020-11-22T06:38:11.107031Z",
     "shell.execute_reply": "2020-11-22T06:38:11.107703Z"
    },
    "papermill": {
     "duration": 0.677368,
     "end_time": "2020-11-22T06:38:11.107880",
     "exception": false,
     "start_time": "2020-11-22T06:38:10.430512",
     "status": "completed"
    },
    "tags": []
   },
   "outputs": [
    {
     "name": "stderr",
     "output_type": "stream",
     "text": [
      "C:\\Users\\ACER\\anaconda3\\lib\\site-packages\\xgboost\\sklearn.py:1146: UserWarning: The use of label encoder in XGBClassifier is deprecated and will be removed in a future release. To remove this warning, do the following: 1) Pass option use_label_encoder=False when constructing XGBClassifier object; and 2) Encode your labels (y) as integers starting with 0, i.e. 0, 1, 2, ..., [num_class - 1].\n",
      "  warnings.warn(label_encoder_deprecation_msg, UserWarning)\n"
     ]
    },
    {
     "name": "stdout",
     "output_type": "stream",
     "text": [
      "[19:49:04] WARNING: C:/Users/Administrator/workspace/xgboost-win64_release_1.4.0/src/learner.cc:1095: Starting in XGBoost 1.3.0, the default evaluation metric used with the objective 'binary:logistic' was changed from 'error' to 'logloss'. Explicitly set eval_metric if you'd like to restore the old behavior.\n"
     ]
    }
   ],
   "source": [
    "xgb=XGBClassifier(learning_rate=0.05, n_estimators=500)\n",
    "xgb.fit(X_train,Y_train)\n",
    "y_pred_xgb=xgb.predict(X_test)"
   ]
  },
  {
   "cell_type": "code",
   "execution_count": 36,
   "metadata": {
    "execution": {
     "iopub.execute_input": "2020-11-22T06:38:11.298381Z",
     "iopub.status.busy": "2020-11-22T06:38:11.297491Z",
     "iopub.status.idle": "2020-11-22T06:38:11.303080Z",
     "shell.execute_reply": "2020-11-22T06:38:11.303567Z"
    },
    "papermill": {
     "duration": 0.097555,
     "end_time": "2020-11-22T06:38:11.303687",
     "exception": false,
     "start_time": "2020-11-22T06:38:11.206132",
     "status": "completed"
    },
    "tags": []
   },
   "outputs": [
    {
     "name": "stdout",
     "output_type": "stream",
     "text": [
      "[0 1 0 1 0 0 0 0 1 0 0 1 0 1 1 0 1 1 0 0 0 1 0 1 0 0 1 1 0 0 0 0 0 0 1 1 0\n",
      " 0 0 0 1 1 0 0 0 0 0 0 1 0 0 0 0 0 1 0 0 0 0 1 0 0 0 0 1 1 0 0 1 0 0 1 1 1\n",
      " 1 0 0 0 1 1 0 0 0 0 0 0 1 0 0 0]\n",
      "We see that XGB classifier gives an Accuracy of  78.88888888888889 % on the traing set.\n"
     ]
    }
   ],
   "source": [
    "acc_XGB= metrics.accuracy_score(y_pred_xgb,Y_test)\n",
    "print(y_pred_xgb)\n",
    "print(\"We see that XGB classifier gives an Accuracy of \",acc_XGB*100,\"% on the traing set.\")                               "
   ]
  },
  {
   "cell_type": "markdown",
   "metadata": {
    "papermill": {
     "duration": 0.063527,
     "end_time": "2020-11-22T06:38:11.432442",
     "exception": false,
     "start_time": "2020-11-22T06:38:11.368915",
     "status": "completed"
    },
    "tags": []
   },
   "source": [
    "# Applying Artificial Neural Network:"
   ]
  },
  {
   "cell_type": "code",
   "execution_count": 37,
   "metadata": {
    "execution": {
     "iopub.execute_input": "2020-11-22T06:38:11.569353Z",
     "iopub.status.busy": "2020-11-22T06:38:11.568563Z",
     "iopub.status.idle": "2020-11-22T06:38:16.145000Z",
     "shell.execute_reply": "2020-11-22T06:38:16.143858Z"
    },
    "papermill": {
     "duration": 4.648938,
     "end_time": "2020-11-22T06:38:16.145130",
     "exception": false,
     "start_time": "2020-11-22T06:38:11.496192",
     "status": "completed"
    },
    "tags": []
   },
   "outputs": [],
   "source": [
    "import keras\n",
    "from keras.layers import Dense\n",
    "from keras.models import Sequential\n",
    "from sklearn.metrics import classification_report"
   ]
  },
  {
   "cell_type": "markdown",
   "metadata": {
    "papermill": {
     "duration": 0.06379,
     "end_time": "2020-11-22T06:38:16.275448",
     "exception": false,
     "start_time": "2020-11-22T06:38:16.211658",
     "status": "completed"
    },
    "tags": []
   },
   "source": [
    "Using sequential model to stack two ***14*** unit hidden layer , with ***1*** output layer."
   ]
  },
  {
   "cell_type": "code",
   "execution_count": 38,
   "metadata": {
    "execution": {
     "iopub.execute_input": "2020-11-22T06:38:16.415118Z",
     "iopub.status.busy": "2020-11-22T06:38:16.414205Z",
     "iopub.status.idle": "2020-11-22T06:38:18.444255Z",
     "shell.execute_reply": "2020-11-22T06:38:18.443721Z"
    },
    "papermill": {
     "duration": 2.102899,
     "end_time": "2020-11-22T06:38:18.444379",
     "exception": false,
     "start_time": "2020-11-22T06:38:16.341480",
     "status": "completed"
    },
    "tags": []
   },
   "outputs": [],
   "source": [
    "nn  = Sequential()\n",
    "nn.add(Dense(units= 14, activation = 'relu', input_dim=7, kernel_initializer=\"uniform\"))\n",
    "nn.add(Dense(units= 14, activation = 'relu',kernel_initializer=\"uniform\"))\n",
    "nn.add(Dense(units= 1, activation = 'sigmoid',kernel_initializer=\"uniform\"))\n",
    "nn.compile(optimizer='adam',\n",
    "              loss='mean_squared_error',\n",
    "              metrics=['accuracy'])\n"
   ]
  },
  {
   "cell_type": "code",
   "execution_count": 39,
   "metadata": {
    "execution": {
     "iopub.execute_input": "2020-11-22T06:38:18.589642Z",
     "iopub.status.busy": "2020-11-22T06:38:18.588730Z",
     "iopub.status.idle": "2020-11-22T06:38:21.909266Z",
     "shell.execute_reply": "2020-11-22T06:38:21.910002Z"
    },
    "papermill": {
     "duration": 3.398542,
     "end_time": "2020-11-22T06:38:21.910141",
     "exception": false,
     "start_time": "2020-11-22T06:38:18.511599",
     "status": "completed"
    },
    "tags": []
   },
   "outputs": [
    {
     "name": "stdout",
     "output_type": "stream",
     "text": [
      "[0, 1, 1, 0, 0, 0, 1, 0, 1, 1, 0, 1, 0, 0, 1, 0, 1, 1, 1, 0, 0, 0, 0, 1, 0, 0, 1, 1, 0, 0, 0, 0, 0, 0, 1, 0, 0, 1, 1, 0, 1, 0, 0, 0, 0, 0, 0, 0, 1, 0, 0, 0, 0, 0, 1, 0, 0, 0, 0, 1, 0, 0, 0, 0, 1, 1, 0, 0, 1, 0, 0, 1, 1, 1, 1, 0, 0, 0, 1, 1, 0, 0, 1, 0, 0, 0, 1, 0, 0, 1]\n"
     ]
    }
   ],
   "source": [
    "nn.fit(X_train,Y_train, batch_size=32,epochs=50,verbose= 0)\n",
    "\n",
    "nn_pred = nn.predict(X_test)\n",
    "nn_pred = [ 1 if y>=0.5 else 0 for y in nn_pred]\n",
    "print(nn_pred)\n",
    "\n",
    "acc_NN = metrics.accuracy_score(Y_test, nn_pred)"
   ]
  },
  {
   "cell_type": "code",
   "execution_count": 40,
   "metadata": {
    "execution": {
     "iopub.execute_input": "2020-11-22T06:38:22.045646Z",
     "iopub.status.busy": "2020-11-22T06:38:22.044823Z",
     "iopub.status.idle": "2020-11-22T06:38:22.050179Z",
     "shell.execute_reply": "2020-11-22T06:38:22.049549Z"
    },
    "papermill": {
     "duration": 0.074662,
     "end_time": "2020-11-22T06:38:22.050280",
     "exception": false,
     "start_time": "2020-11-22T06:38:21.975618",
     "status": "completed"
    },
    "tags": []
   },
   "outputs": [
    {
     "name": "stdout",
     "output_type": "stream",
     "text": [
      "We can see that the neural network gives an Accuracy of  75.55555555555556 % on the training set.\n"
     ]
    }
   ],
   "source": [
    "print(\"We can see that the neural network gives an Accuracy of \",acc_NN*100 , \"% on the training set.\")"
   ]
  },
  {
   "cell_type": "markdown",
   "metadata": {
    "papermill": {
     "duration": 0.065085,
     "end_time": "2020-11-22T06:38:22.181452",
     "exception": false,
     "start_time": "2020-11-22T06:38:22.116367",
     "status": "completed"
    },
    "tags": []
   },
   "source": [
    "# Getting the best Classifier:"
   ]
  },
  {
   "cell_type": "code",
   "execution_count": 41,
   "metadata": {
    "execution": {
     "iopub.execute_input": "2020-11-22T06:38:22.324780Z",
     "iopub.status.busy": "2020-11-22T06:38:22.324118Z",
     "iopub.status.idle": "2020-11-22T06:38:22.328556Z",
     "shell.execute_reply": "2020-11-22T06:38:22.329548Z"
    },
    "papermill": {
     "duration": 0.081725,
     "end_time": "2020-11-22T06:38:22.329693",
     "exception": false,
     "start_time": "2020-11-22T06:38:22.247968",
     "status": "completed"
    },
    "tags": []
   },
   "outputs": [
    {
     "name": "stdout",
     "output_type": "stream",
     "text": [
      "                          Model     Score\n",
      "4  Gradient Boosting Classifier  0.788889\n",
      "2                 Random Forest  0.777778\n",
      "0           Logistic Regression  0.755556\n",
      "5     Artificial Neural Network  0.755556\n",
      "3       Support Vector Machines  0.733333\n",
      "1                 Decision Tree  0.700000\n"
     ]
    }
   ],
   "source": [
    "models = pd.DataFrame({\n",
    "    'Model': ['Logistic Regression','Decision Tree','Random Forest','Support Vector Machines',\n",
    "              'Gradient Boosting Classifier','Artificial Neural Network'],\n",
    "    'Score': [acc_LR, acc_DT, acc_RF, \n",
    "              acc_SVC, acc_XGB, acc_NN]})\n",
    "best_model=models.sort_values(by='Score', ascending=False)\n",
    "print(best_model)"
   ]
  },
  {
   "cell_type": "markdown",
   "metadata": {
    "papermill": {
     "duration": 0.065013,
     "end_time": "2020-11-22T06:38:22.461804",
     "exception": false,
     "start_time": "2020-11-22T06:38:22.396791",
     "status": "completed"
    },
    "tags": []
   },
   "source": [
    "* Fetching the best Model"
   ]
  },
  {
   "cell_type": "code",
   "execution_count": 42,
   "metadata": {
    "execution": {
     "iopub.execute_input": "2020-11-22T06:38:22.597440Z",
     "iopub.status.busy": "2020-11-22T06:38:22.596801Z",
     "iopub.status.idle": "2020-11-22T06:38:22.601434Z",
     "shell.execute_reply": "2020-11-22T06:38:22.601945Z"
    },
    "papermill": {
     "duration": 0.074705,
     "end_time": "2020-11-22T06:38:22.602063",
     "exception": false,
     "start_time": "2020-11-22T06:38:22.527358",
     "status": "completed"
    },
    "tags": []
   },
   "outputs": [
    {
     "name": "stdout",
     "output_type": "stream",
     "text": [
      "Gradient Boosting Classifier\n"
     ]
    }
   ],
   "source": [
    "best=best_model['Model'].iloc[0]\n",
    "\n",
    "print(str(best))"
   ]
  },
  {
   "cell_type": "markdown",
   "metadata": {},
   "source": [
    "# Hyper-parameter Tuning"
   ]
  },
  {
   "cell_type": "markdown",
   "metadata": {},
   "source": [
    "Hyper-parameters are the model configuration argument specified by the developer to guide the learning process for a specific dataset.\n",
    "\n",
    "Hyperparameters are important because they directly control the behaviour of the training algorithm and have a significant impact on the performance of the model is being trained. “A good choice of hyperparameters can really make an algorithm shine”.\n",
    "\n",
    "A range of different optimization algorithms may be used, although two of the simplest and most common methods are random search and grid search.\n",
    "\n",
    "- Random Search. Define a search space as a bounded domain of hyperparameter values and randomly sample points in that domain.\n",
    "- Grid Search. Define a search space as a grid of hyperparameter values and evaluate every position in the grid.\n",
    "\n",
    "Let's use Grid Search.\n"
   ]
  },
  {
   "cell_type": "markdown",
   "metadata": {},
   "source": [
    "**Let's define parameter grids for all models**\n",
    "> The parameter grid to explore, as a dictionary mapping estimator parameters to sequences of allowed values. \n",
    "\n",
    "Note: Tuning Artificial Neural Network is a tedious work and need different approach let's skip that."
   ]
  },
  {
   "cell_type": "code",
   "execution_count": 43,
   "metadata": {},
   "outputs": [],
   "source": [
    "# let's not use all the parameters\n",
    "PARAM_GRIDS = {\n",
    "    'Logistic Regression': {\n",
    "        'solver': ['newton-cg', 'lbfgs', 'liblinear'],\n",
    "        'penalty': ['l2'],\n",
    "        'C': [100, 10, 1.0, 0.2, 0.1, 0.01]\n",
    "    },\n",
    "    'Decision Tree': {\n",
    "        'max_depth': [2, 3, 5, 10, 20],\n",
    "        'min_samples_leaf': [5, 10, 20, 50, 100],\n",
    "        'criterion': [\"gini\", \"entropy\"]\n",
    "    },\n",
    "    'Random Forest': {\n",
    "        'criterion' : ['gini', 'entropy'],\n",
    "        'min_samples_leaf' : [1, 2, 4, 8], \n",
    "        'min_samples_split' : [2, 4, 10, 12, 16, 20],\n",
    "        'n_estimators': [50, 100, 200, 400, 700, 1000],\n",
    "    },\n",
    "    'Support Vector Machine': {\n",
    "        'kernel': ['poly', 'rbf', 'sigmoid'],\n",
    "        'C': [50, 10, 1.0, 0.1, 0.01],\n",
    "        'gamma': ['scale']\n",
    "    },\n",
    "    'Gradient Boosting Classifier':{\n",
    "        'n_estimators': [10, 100, 1000],\n",
    "        'learning_rate': [0.001, 0.01, 0.1],\n",
    "        'subsample':  [0.5, 0.7, 1.0],\n",
    "        'max_depth': [3, 7, 9]\n",
    "    }\n",
    "}"
   ]
  },
  {
   "cell_type": "code",
   "execution_count": 44,
   "metadata": {},
   "outputs": [],
   "source": [
    "from sklearn.model_selection import GridSearchCV\n",
    "\n",
    "def get_best_params(x, y, estimator, param_grid, scoring='accuracy', cv=10, n_jobs=-1):\n",
    "    \"\"\" \n",
    "        Exhaustive search over specified parameter values for an estimator\n",
    "        :param x: input variables\n",
    "        :param y: output variables\n",
    "        :param estimator: estimator object\n",
    "        :param param_grid: dict or list of dictionaries\n",
    "        :param scoring: str, callable, list, tuple or dict, default='accuracy'\n",
    "        :param cv: int, cross-validation generator or an iterable, default=10\n",
    "        :param n_jobs: int, default=-1\n",
    "        :return:  returns the best model parameters from a search over a parameter_grid  \n",
    "    \"\"\"\n",
    "    gs = GridSearchCV(estimator=estimator, param_grid=param_grid, scoring=scoring, cv=cv, n_jobs=n_jobs)\n",
    "    return gs.fit(x, y)    "
   ]
  },
  {
   "cell_type": "markdown",
   "metadata": {
    "papermill": {
     "duration": 0.066164,
     "end_time": "2020-11-22T06:38:22.735459",
     "exception": false,
     "start_time": "2020-11-22T06:38:22.669295",
     "status": "completed"
    },
    "tags": []
   },
   "source": [
    "# Fitting the test set on the Best Classifier:"
   ]
  },
  {
   "cell_type": "code",
   "execution_count": 45,
   "metadata": {
    "execution": {
     "iopub.execute_input": "2020-11-22T06:38:22.882565Z",
     "iopub.status.busy": "2020-11-22T06:38:22.880185Z",
     "iopub.status.idle": "2020-11-22T06:38:22.889699Z",
     "shell.execute_reply": "2020-11-22T06:38:22.888837Z"
    },
    "papermill": {
     "duration": 0.087877,
     "end_time": "2020-11-22T06:38:22.889845",
     "exception": false,
     "start_time": "2020-11-22T06:38:22.801968",
     "status": "completed"
    },
    "tags": []
   },
   "outputs": [
    {
     "name": "stdout",
     "output_type": "stream",
     "text": [
      "Pclass 0.0\n",
      "Sex 0.0\n",
      "Age 20.574162679425836\n",
      "SibSp 0.0\n",
      "Parch 0.0\n",
      "Fare 0.23923444976076555\n",
      "Title 0.0\n",
      "..............Before\n",
      "\n",
      "\n",
      "Pclass 0.0\n",
      "Sex 0.0\n",
      "Age 0.0\n",
      "SibSp 0.0\n",
      "Parch 0.0\n",
      "Fare 0.0\n",
      "Title 0.0\n",
      "..............After\n"
     ]
    }
   ],
   "source": [
    "test.head()\n",
    "for c in test.columns:\n",
    "    print(c, str(100*test[c].isnull().sum()/len(test)))\n",
    "print(\"..............Before\")    \n",
    "\n",
    "test['Age'] = test['Age'].fillna(test['Age'].mean())\n",
    "test['Fare'] = test['Fare'].fillna(test['Fare'].mean())\n",
    "print(\"\\n\")\n",
    "for c in test.columns:\n",
    "    print(c, str(100*test[c].isnull().sum()/len(test)))\n",
    "print(\"..............After\")"
   ]
  },
  {
   "cell_type": "markdown",
   "metadata": {
    "papermill": {
     "duration": 0.066589,
     "end_time": "2020-11-22T06:38:23.024010",
     "exception": false,
     "start_time": "2020-11-22T06:38:22.957421",
     "status": "completed"
    },
    "tags": []
   },
   "source": [
    "***Selecting the Best Model and fitting it to the Test data :***"
   ]
  },
  {
   "cell_type": "code",
   "execution_count": 46,
   "metadata": {
    "execution": {
     "iopub.execute_input": "2020-11-22T06:38:23.182397Z",
     "iopub.status.busy": "2020-11-22T06:38:23.180844Z",
     "iopub.status.idle": "2020-11-22T06:38:23.492169Z",
     "shell.execute_reply": "2020-11-22T06:38:23.492808Z"
    },
    "papermill": {
     "duration": 0.401861,
     "end_time": "2020-11-22T06:38:23.492970",
     "exception": false,
     "start_time": "2020-11-22T06:38:23.091109",
     "status": "completed"
    },
    "tags": []
   },
   "outputs": [
    {
     "name": "stderr",
     "output_type": "stream",
     "text": [
      "C:\\Users\\ACER\\anaconda3\\lib\\site-packages\\xgboost\\sklearn.py:1146: UserWarning: The use of label encoder in XGBClassifier is deprecated and will be removed in a future release. To remove this warning, do the following: 1) Pass option use_label_encoder=False when constructing XGBClassifier object; and 2) Encode your labels (y) as integers starting with 0, i.e. 0, 1, 2, ..., [num_class - 1].\n",
      "  warnings.warn(label_encoder_deprecation_msg, UserWarning)\n"
     ]
    },
    {
     "name": "stdout",
     "output_type": "stream",
     "text": [
      "[19:53:02] WARNING: C:/Users/Administrator/workspace/xgboost-win64_release_1.4.0/src/learner.cc:1095: Starting in XGBoost 1.3.0, the default evaluation metric used with the objective 'binary:logistic' was changed from 'error' to 'logloss'. Explicitly set eval_metric if you'd like to restore the old behavior.\n",
      "[19:53:03] WARNING: C:/Users/Administrator/workspace/xgboost-win64_release_1.4.0/src/learner.cc:1095: Starting in XGBoost 1.3.0, the default evaluation metric used with the objective 'binary:logistic' was changed from 'error' to 'logloss'. Explicitly set eval_metric if you'd like to restore the old behavior.\n",
      "[0 0 0 0 1 0 1 0 1 0 0 0 1 0 1 1 0 0 1 0 0 1 1 0 1 0 1 0 0 0 0 0 1 0 1 0 0\n",
      " 0 0 0 0 1 0 1 1 0 0 0 1 1 0 0 1 1 0 0 0 0 0 1 0 0 0 1 1 1 1 0 0 1 1 0 1 0\n",
      " 1 1 0 1 0 1 1 0 0 0 0 0 1 1 1 1 0 0 1 0 0 0 1 0 1 0 1 0 0 0 1 0 0 0 0 0 0\n",
      " 1 1 1 1 0 0 1 1 1 1 0 1 0 0 1 0 0 0 0 0 0 0 0 0 0 0 0 0 0 0 1 0 0 1 0 0 0\n",
      " 1 0 1 0 0 1 0 0 1 1 1 1 1 1 1 0 0 1 0 0 1 0 0 0 0 0 0 1 1 0 1 1 0 0 1 0 1\n",
      " 0 1 0 0 0 0 0 1 0 1 0 1 1 0 1 1 1 1 1 0 0 1 0 1 0 0 0 0 1 0 0 1 0 1 0 1 0\n",
      " 1 0 1 1 0 1 0 0 0 1 0 0 0 0 0 0 1 1 1 1 0 0 0 0 1 0 1 0 1 0 0 0 0 0 0 0 1\n",
      " 0 0 0 1 1 0 0 0 0 0 0 0 0 1 1 0 1 0 0 0 0 0 1 1 1 1 0 0 0 0 0 0 0 0 1 0 0\n",
      " 1 0 0 0 0 0 0 0 1 1 0 1 0 0 0 0 0 0 1 1 0 0 0 0 0 0 0 1 1 0 1 0 0 0 1 0 0\n",
      " 1 0 0 0 0 0 0 0 0 0 1 0 1 0 0 0 1 1 0 0 0 1 0 1 0 0 1 0 1 1 0 1 0 0 0 1 0\n",
      " 0 1 0 0 1 1 0 0 0 0 0 0 1 1 0 1 0 0 0 0 0 1 1 0 0 1 0 1 0 0 1 0 1 0 0 0 0\n",
      " 0 1 1 1 1 1 0 1 0 0 0]\n",
      "Gradient Boosting Classifier\n"
     ]
    }
   ],
   "source": [
    "x, y = train.drop(['Survived'],axis=1),train['Survived']\n",
    "\n",
    "if best == 'Logistic Regression':\n",
    "    estimator = LogisticRegression()\n",
    "    \n",
    "    gs = get_best_params(x, y, estimator, PARAM_GRIDS['Logistic Regression']) # start GridSearchCv for LR\n",
    "    \n",
    "    modelLR = LogisticRegression(**gs.best_params_, random_state=1)\n",
    "    modelLR.fit(x, y)\n",
    "    test_pred=modelLR.predict(test)\n",
    "    print(test_pred)\n",
    "    print('Logistic Regression')\n",
    "    \n",
    "if best == 'Decision Tree':\n",
    "    estimator = DecisionTreeClassifier()\n",
    "    \n",
    "    gs = get_best_params(x, y, estimator, PARAM_GRIDS['Decision Tree']) # start GridSearchCv for DT\n",
    "                \n",
    "    dtree = DecisionTreeClassifier(**gs.best_params_)\n",
    "    dtree.fit(x, y)\n",
    "    test_pred=dtree.predict(test)\n",
    "    print(test_pred)\n",
    "    print('Decision Tree')\n",
    "    \n",
    "if best =='Random Forest':\n",
    "    estimator = RandomForestClassifier()\n",
    "    \n",
    "    gs = get_best_params(x, y, estimator, PARAM_GRIDS['Random Forest']) # start GridSearchCv for RF\n",
    "     \n",
    "    rforest = RandomForestClassifier(**gs.best_params_)\n",
    "    rforest.fit(x, y)\n",
    "    test_pred=rforest.predict(test)\n",
    "    print(test_pred)\n",
    "    print('Random Forest')\n",
    "    \n",
    "if best == 'Support Vector Machine':\n",
    "    estimator = SVC()\n",
    "    \n",
    "    gs = get_best_params(x, y, estimator, PARAM_GRIDS['Support Vector Machine']) # start GridSearchCv for SVM\n",
    "\n",
    "    svc = SVC(**gs.best_params_)\n",
    "    svc.fit(x, y)\n",
    "    test_pred=svc.predict(test)\n",
    "    print(test_pred)\n",
    "    print('Support Vector Machines')\n",
    "\n",
    "if best == 'Gradient Boosting Classifier':\n",
    "    estimator = XGBClassifier()\n",
    "    \n",
    "    gs = get_best_params(x, y, estimator, PARAM_GRIDS['Gradient Boosting Classifier']) # start GridSearchCv for GBC\n",
    "    \n",
    "    xgb=XGBClassifier(**gs.best_params_)\n",
    "    xgb.fit(x, y)\n",
    "    test_pred=xgb.predict(test)\n",
    "    print(test_pred)\n",
    "    print('Gradient Boosting Classifier')\n",
    "    \n",
    "if best == 'Artificial Neural Network':\n",
    "    nn.fit(train.drop(['Survived'],axis=1),train['Survived'], epochs=500 , verbose=0)\n",
    "    test_pred=nn.predict(test)\n",
    "    test_pred = [ 1 if y>=0.5 else 0 for y in test_pred]\n",
    "    print(test_pred)\n",
    "    print('Artificial Neural Network')\n",
    "    "
   ]
  },
  {
   "cell_type": "markdown",
   "metadata": {
    "papermill": {
     "duration": 0.081045,
     "end_time": "2020-11-22T06:38:23.655524",
     "exception": false,
     "start_time": "2020-11-22T06:38:23.574479",
     "status": "completed"
    },
    "tags": []
   },
   "source": [
    "**Fetching the Survival Data of the test set from the *gender_submission.csv* file .**"
   ]
  },
  {
   "cell_type": "code",
   "execution_count": 47,
   "metadata": {
    "execution": {
     "iopub.execute_input": "2020-11-22T06:38:23.804678Z",
     "iopub.status.busy": "2020-11-22T06:38:23.803651Z",
     "iopub.status.idle": "2020-11-22T06:38:23.815700Z",
     "shell.execute_reply": "2020-11-22T06:38:23.816231Z"
    },
    "papermill": {
     "duration": 0.087881,
     "end_time": "2020-11-22T06:38:23.816358",
     "exception": false,
     "start_time": "2020-11-22T06:38:23.728477",
     "status": "completed"
    },
    "tags": []
   },
   "outputs": [
    {
     "data": {
      "text/html": [
       "<div>\n",
       "<style scoped>\n",
       "    .dataframe tbody tr th:only-of-type {\n",
       "        vertical-align: middle;\n",
       "    }\n",
       "\n",
       "    .dataframe tbody tr th {\n",
       "        vertical-align: top;\n",
       "    }\n",
       "\n",
       "    .dataframe thead th {\n",
       "        text-align: right;\n",
       "    }\n",
       "</style>\n",
       "<table border=\"1\" class=\"dataframe\">\n",
       "  <thead>\n",
       "    <tr style=\"text-align: right;\">\n",
       "      <th></th>\n",
       "      <th>Survived</th>\n",
       "    </tr>\n",
       "  </thead>\n",
       "  <tbody>\n",
       "    <tr>\n",
       "      <th>0</th>\n",
       "      <td>0</td>\n",
       "    </tr>\n",
       "    <tr>\n",
       "      <th>1</th>\n",
       "      <td>1</td>\n",
       "    </tr>\n",
       "    <tr>\n",
       "      <th>2</th>\n",
       "      <td>0</td>\n",
       "    </tr>\n",
       "    <tr>\n",
       "      <th>3</th>\n",
       "      <td>0</td>\n",
       "    </tr>\n",
       "    <tr>\n",
       "      <th>4</th>\n",
       "      <td>1</td>\n",
       "    </tr>\n",
       "  </tbody>\n",
       "</table>\n",
       "</div>"
      ],
      "text/plain": [
       "   Survived\n",
       "0         0\n",
       "1         1\n",
       "2         0\n",
       "3         0\n",
       "4         1"
      ]
     },
     "execution_count": 47,
     "metadata": {},
     "output_type": "execute_result"
    }
   ],
   "source": [
    "test_data=pd.read_csv('./kaggle/input/titanic/gender_submission.csv')\n",
    "test_data = test_data.drop(['PassengerId'], axis=1)\n",
    "\n",
    "test_data.head()"
   ]
  },
  {
   "cell_type": "code",
   "execution_count": 48,
   "metadata": {
    "execution": {
     "iopub.execute_input": "2020-11-22T06:38:23.967700Z",
     "iopub.status.busy": "2020-11-22T06:38:23.965444Z",
     "iopub.status.idle": "2020-11-22T06:38:23.970642Z",
     "shell.execute_reply": "2020-11-22T06:38:23.969916Z"
    },
    "papermill": {
     "duration": 0.085648,
     "end_time": "2020-11-22T06:38:23.970776",
     "exception": false,
     "start_time": "2020-11-22T06:38:23.885128",
     "status": "completed"
    },
    "tags": []
   },
   "outputs": [
    {
     "name": "stdout",
     "output_type": "stream",
     "text": [
      "Here we see that the test data has an Accuracy of  89.23444976076556 % \n"
     ]
    }
   ],
   "source": [
    "test_data.values.tolist()\n",
    "test_acc = metrics.accuracy_score(test_data, test_pred)\n",
    "\n",
    "print(\"Here we see that the test data has an Accuracy of \",test_acc*100,\"% \")"
   ]
  },
  {
   "cell_type": "markdown",
   "metadata": {
    "papermill": {
     "duration": 0.073309,
     "end_time": "2020-11-22T06:38:24.118683",
     "exception": false,
     "start_time": "2020-11-22T06:38:24.045374",
     "status": "completed"
    },
    "tags": []
   },
   "source": [
    "* Adding the predictions to the Test set"
   ]
  },
  {
   "cell_type": "code",
   "execution_count": 50,
   "metadata": {
    "execution": {
     "iopub.execute_input": "2020-11-22T06:38:24.265068Z",
     "iopub.status.busy": "2020-11-22T06:38:24.264195Z",
     "iopub.status.idle": "2020-11-22T06:38:24.272251Z",
     "shell.execute_reply": "2020-11-22T06:38:24.271686Z"
    },
    "papermill": {
     "duration": 0.083405,
     "end_time": "2020-11-22T06:38:24.272351",
     "exception": false,
     "start_time": "2020-11-22T06:38:24.188946",
     "status": "completed"
    },
    "tags": []
   },
   "outputs": [],
   "source": [
    "test_predict = pd.DataFrame(test_pred, columns= ['Survived'])\n",
    "test_new= pd.read_csv('./kaggle/input/titanic/test.csv')\n",
    "new_test = pd.concat([test_new, test_predict], axis=1, join='inner')"
   ]
  },
  {
   "cell_type": "code",
   "execution_count": 51,
   "metadata": {
    "execution": {
     "iopub.execute_input": "2020-11-22T06:38:24.677314Z",
     "iopub.status.busy": "2020-11-22T06:38:24.676420Z",
     "iopub.status.idle": "2020-11-22T06:38:24.724287Z",
     "shell.execute_reply": "2020-11-22T06:38:24.724979Z"
    },
    "papermill": {
     "duration": 0.247143,
     "end_time": "2020-11-22T06:38:24.725207",
     "exception": false,
     "start_time": "2020-11-22T06:38:24.478064",
     "status": "completed"
    },
    "tags": []
   },
   "outputs": [
    {
     "data": {
      "text/html": [
       "<div>\n",
       "<style scoped>\n",
       "    .dataframe tbody tr th:only-of-type {\n",
       "        vertical-align: middle;\n",
       "    }\n",
       "\n",
       "    .dataframe tbody tr th {\n",
       "        vertical-align: top;\n",
       "    }\n",
       "\n",
       "    .dataframe thead th {\n",
       "        text-align: right;\n",
       "    }\n",
       "</style>\n",
       "<table border=\"1\" class=\"dataframe\">\n",
       "  <thead>\n",
       "    <tr style=\"text-align: right;\">\n",
       "      <th></th>\n",
       "      <th>PassengerId</th>\n",
       "      <th>Pclass</th>\n",
       "      <th>Name</th>\n",
       "      <th>Sex</th>\n",
       "      <th>Age</th>\n",
       "      <th>SibSp</th>\n",
       "      <th>Parch</th>\n",
       "      <th>Ticket</th>\n",
       "      <th>Fare</th>\n",
       "      <th>Cabin</th>\n",
       "      <th>Embarked</th>\n",
       "      <th>Survived</th>\n",
       "    </tr>\n",
       "  </thead>\n",
       "  <tbody>\n",
       "    <tr>\n",
       "      <th>0</th>\n",
       "      <td>892</td>\n",
       "      <td>3</td>\n",
       "      <td>Kelly, Mr. James</td>\n",
       "      <td>male</td>\n",
       "      <td>34.5</td>\n",
       "      <td>0</td>\n",
       "      <td>0</td>\n",
       "      <td>330911</td>\n",
       "      <td>7.8292</td>\n",
       "      <td>NaN</td>\n",
       "      <td>Q</td>\n",
       "      <td>0</td>\n",
       "    </tr>\n",
       "    <tr>\n",
       "      <th>1</th>\n",
       "      <td>893</td>\n",
       "      <td>3</td>\n",
       "      <td>Wilkes, Mrs. James (Ellen Needs)</td>\n",
       "      <td>female</td>\n",
       "      <td>47.0</td>\n",
       "      <td>1</td>\n",
       "      <td>0</td>\n",
       "      <td>363272</td>\n",
       "      <td>7.0000</td>\n",
       "      <td>NaN</td>\n",
       "      <td>S</td>\n",
       "      <td>0</td>\n",
       "    </tr>\n",
       "    <tr>\n",
       "      <th>2</th>\n",
       "      <td>894</td>\n",
       "      <td>2</td>\n",
       "      <td>Myles, Mr. Thomas Francis</td>\n",
       "      <td>male</td>\n",
       "      <td>62.0</td>\n",
       "      <td>0</td>\n",
       "      <td>0</td>\n",
       "      <td>240276</td>\n",
       "      <td>9.6875</td>\n",
       "      <td>NaN</td>\n",
       "      <td>Q</td>\n",
       "      <td>0</td>\n",
       "    </tr>\n",
       "    <tr>\n",
       "      <th>3</th>\n",
       "      <td>895</td>\n",
       "      <td>3</td>\n",
       "      <td>Wirz, Mr. Albert</td>\n",
       "      <td>male</td>\n",
       "      <td>27.0</td>\n",
       "      <td>0</td>\n",
       "      <td>0</td>\n",
       "      <td>315154</td>\n",
       "      <td>8.6625</td>\n",
       "      <td>NaN</td>\n",
       "      <td>S</td>\n",
       "      <td>0</td>\n",
       "    </tr>\n",
       "    <tr>\n",
       "      <th>4</th>\n",
       "      <td>896</td>\n",
       "      <td>3</td>\n",
       "      <td>Hirvonen, Mrs. Alexander (Helga E Lindqvist)</td>\n",
       "      <td>female</td>\n",
       "      <td>22.0</td>\n",
       "      <td>1</td>\n",
       "      <td>1</td>\n",
       "      <td>3101298</td>\n",
       "      <td>12.2875</td>\n",
       "      <td>NaN</td>\n",
       "      <td>S</td>\n",
       "      <td>1</td>\n",
       "    </tr>\n",
       "  </tbody>\n",
       "</table>\n",
       "</div>"
      ],
      "text/plain": [
       "   PassengerId  Pclass                                          Name     Sex  \\\n",
       "0          892       3                              Kelly, Mr. James    male   \n",
       "1          893       3              Wilkes, Mrs. James (Ellen Needs)  female   \n",
       "2          894       2                     Myles, Mr. Thomas Francis    male   \n",
       "3          895       3                              Wirz, Mr. Albert    male   \n",
       "4          896       3  Hirvonen, Mrs. Alexander (Helga E Lindqvist)  female   \n",
       "\n",
       "    Age  SibSp  Parch   Ticket     Fare Cabin Embarked  Survived  \n",
       "0  34.5      0      0   330911   7.8292   NaN        Q         0  \n",
       "1  47.0      1      0   363272   7.0000   NaN        S         0  \n",
       "2  62.0      0      0   240276   9.6875   NaN        Q         0  \n",
       "3  27.0      0      0   315154   8.6625   NaN        S         0  \n",
       "4  22.0      1      1  3101298  12.2875   NaN        S         1  "
      ]
     },
     "execution_count": 51,
     "metadata": {},
     "output_type": "execute_result"
    }
   ],
   "source": [
    "new_test.head()"
   ]
  },
  {
   "cell_type": "markdown",
   "metadata": {
    "papermill": {
     "duration": 0.123241,
     "end_time": "2020-11-22T06:38:25.068670",
     "exception": false,
     "start_time": "2020-11-22T06:38:24.945429",
     "status": "completed"
    },
    "tags": []
   },
   "source": [
    "The new Test set with Survived Column"
   ]
  },
  {
   "cell_type": "markdown",
   "metadata": {
    "papermill": {
     "duration": 0.104137,
     "end_time": "2020-11-22T06:38:25.286925",
     "exception": false,
     "start_time": "2020-11-22T06:38:25.182788",
     "status": "completed"
    },
    "tags": []
   },
   "source": [
    "* Submitting the predictions"
   ]
  },
  {
   "cell_type": "code",
   "execution_count": 52,
   "metadata": {
    "execution": {
     "iopub.execute_input": "2020-11-22T06:38:25.569952Z",
     "iopub.status.busy": "2020-11-22T06:38:25.568134Z",
     "iopub.status.idle": "2020-11-22T06:38:25.737786Z",
     "shell.execute_reply": "2020-11-22T06:38:25.738884Z"
    },
    "papermill": {
     "duration": 0.283746,
     "end_time": "2020-11-22T06:38:25.739067",
     "exception": false,
     "start_time": "2020-11-22T06:38:25.455321",
     "status": "completed"
    },
    "tags": []
   },
   "outputs": [],
   "source": [
    "submit=new_test[['PassengerId','Survived']]\n",
    "submit.to_csv('predictions.csv',index=False)"
   ]
  },
  {
   "cell_type": "markdown",
   "metadata": {
    "papermill": {
     "duration": 0.091298,
     "end_time": "2020-11-22T06:38:25.930317",
     "exception": false,
     "start_time": "2020-11-22T06:38:25.839019",
     "status": "completed"
    },
    "tags": []
   },
   "source": [
    "<img src=\"https://upload.wikimedia.org/wikipedia/commons/thumb/9/9c/Titanic_wreck_bow.jpg/1200px-Titanic_wreck_bow.jpg\">"
   ]
  },
  {
   "cell_type": "markdown",
   "metadata": {
    "papermill": {
     "duration": 0.071565,
     "end_time": "2020-11-22T06:38:26.078284",
     "exception": false,
     "start_time": "2020-11-22T06:38:26.006719",
     "status": "completed"
    },
    "tags": []
   },
   "source": [
    "#                         *The End*                                                   "
   ]
  },
  {
   "cell_type": "code",
   "execution_count": null,
   "metadata": {},
   "outputs": [],
   "source": []
  }
 ],
 "metadata": {
  "kernelspec": {
   "display_name": "Python 3",
   "language": "python",
   "name": "python3"
  },
  "language_info": {
   "codemirror_mode": {
    "name": "ipython",
    "version": 3
   },
   "file_extension": ".py",
   "mimetype": "text/x-python",
   "name": "python",
   "nbconvert_exporter": "python",
   "pygments_lexer": "ipython3",
   "version": "3.8.5"
  },
  "papermill": {
   "duration": 33.869984,
   "end_time": "2020-11-22T06:38:27.338596",
   "environment_variables": {},
   "exception": null,
   "input_path": "__notebook__.ipynb",
   "output_path": "__notebook__.ipynb",
   "parameters": {},
   "start_time": "2020-11-22T06:37:53.468612",
   "version": "2.1.0"
  }
 },
 "nbformat": 4,
 "nbformat_minor": 4
}
