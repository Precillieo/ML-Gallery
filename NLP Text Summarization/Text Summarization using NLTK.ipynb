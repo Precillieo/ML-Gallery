{
 "cells": [
  {
   "cell_type": "markdown",
   "metadata": {},
   "source": [
    "## Implementation\n",
    "\n",
    "1. Import Libraries"
   ]
  },
  {
   "cell_type": "code",
   "execution_count": 1,
   "metadata": {},
   "outputs": [],
   "source": [
    "from nltk.corpus import stopwords # Stopwords\n",
    "from nltk.tokenize import word_tokenize, sent_tokenize # Tokenizer"
   ]
  },
  {
   "cell_type": "markdown",
   "metadata": {},
   "source": [
    "- Corpus:- A collection of text is known as Corpus.\n",
    "- Tokenizers:- This divides a text into a series of tokens\n",
    "\n",
    "2. Next, we remove the `stopwords` in the sentence for narrowing the words.\n",
    "\n",
    "<b>StopWords</b> :- Words such as is, an, a, the, for that do not add value to the meaning of a sentence. \n",
    "\n",
    "3. We create a `Frequency Table` of words.\n",
    "This `dict` would keep record of how many times each word will appear in the text after removing `stopwords`."
   ]
  },
  {
   "cell_type": "code",
   "execution_count": 2,
   "metadata": {},
   "outputs": [],
   "source": [
    "# Diwali Essay Example\n",
    "text = \"\"\"The religious significance of this festival has differences. It varies from one region to another in India. There is an association of many deities, cultures, and traditions with Diwali. The reason for these differences is probably local harvest festivals. Hence, there was a fusion of these harvest festivals into one pan-Hindu festival.\n",
    "\n",
    "According to the Ramayana, Diwali is the day of the return of Rama. This day Lord Rama returned to Ayodhya along with his wife Sita. This return was made after Rama defeated demon King Ravana. Furthermore, Rama’s brother Lakshmana and Hanuman also came back to Ayodhya victorious.\n",
    "\n",
    "There is another popular tradition for the reason of Diwali. Here Lord Vishnu as an incarnation of Krishna killed Narakasura. Narakasura was certainly a demon. Above all, this victory brought the release of 16000 captive girls.\n",
    "\n",
    "Furthermore, this victory shows the triumph of good over evil. This is due to Lord Krishna being good and Narakasura being evil.\n",
    "\n",
    "Association of Diwali to Goddess Lakshmi is the belief of many Hindus. Lakshmi is the wife of Lord Vishnu. She also happens to be the Goddess of wealth and prosperity.\n",
    "\n",
    "According to a legend, Diwali is the night of Lakshmi wedding. This night she chose and wed Vishnu. Eastern India Hindus associate Diwali with Goddess Durga or kali. Some Hindus believe Diwali to be the start of a new year.\"\"\""
   ]
  },
  {
   "cell_type": "markdown",
   "metadata": {},
   "source": [
    "```python\n",
    "stopWords = set(stopwords.words('english'))\n",
    "words = word_tokenize(text)\n",
    "freqtable = dict()\n",
    "```"
   ]
  },
  {
   "cell_type": "markdown",
   "metadata": {},
   "source": [
    "4. Depending on the words it contains and the frequency table, we will now assign a score to each sentence\n",
    "\n",
    "We will `sent_tokenize()` method to create an list of sentences. Also, a `dict` is to be created to keep track of the score of each sentence for later use."
   ]
  },
  {
   "cell_type": "code",
   "execution_count": 3,
   "metadata": {},
   "outputs": [],
   "source": [
    "sentences = sent_tokenize(text)\n",
    "sentenceValue = dict()"
   ]
  },
  {
   "cell_type": "markdown",
   "metadata": {},
   "source": [
    "5. To compare the sentences within the `text`, assign a score\n",
    "\n",
    "We can compare the score by finding `average` score of particular sentence. This score is now a `Threshold`."
   ]
  },
  {
   "cell_type": "code",
   "execution_count": 4,
   "metadata": {},
   "outputs": [],
   "source": [
    "sumValues = 0\n",
    "for sentence in sentenceValue:\n",
    "    sumValues += sentenceValue[sentence]\n",
    "    average = int(sumValues / len(sentenceValue))"
   ]
  },
  {
   "cell_type": "markdown",
   "metadata": {},
   "source": [
    "6. Now, apply this `threshold` to store sentences and print the `summary`"
   ]
  },
  {
   "cell_type": "code",
   "execution_count": 5,
   "metadata": {},
   "outputs": [
    {
     "name": "stdout",
     "output_type": "stream",
     "text": [
      " There is an association of many deities, cultures, and traditions with Diwali. According to the Ramayana, Diwali is the day of the return of Rama. Furthermore, Rama’s brother Lakshmana and Hanuman also came back to Ayodhya victorious. According to a legend, Diwali is the night of Lakshmi wedding.\n"
     ]
    }
   ],
   "source": [
    "stopWords = set(stopwords.words('english'))\n",
    "words = word_tokenize(text)\n",
    "\n",
    "# Frequency Table\n",
    "freqTable = dict()\n",
    "\n",
    "for word in words:\n",
    "    word = word.lower()\n",
    "    if word in stopWords:\n",
    "        continue\n",
    "    \n",
    "    if word in freqTable:\n",
    "        freqTable[word] += 1\n",
    "    else:\n",
    "        freqTable[word] = 1\n",
    "        \n",
    "# Creating dict to keep the score of each sentence\n",
    "sentences = sent_tokenize(text)\n",
    "sentenceValue = dict()\n",
    "\n",
    "for sentence in sentences:\n",
    "    for word, freq in freqTable.items():\n",
    "        if word in sentence.lower():\n",
    "            if sentence in sentenceValue:\n",
    "                sentenceValue[sentence] += freq\n",
    "            else:\n",
    "                sentenceValue[sentence] = freq\n",
    "\n",
    "sumValues = 0\n",
    "for sentence in sentenceValue:\n",
    "    sumValues += sentenceValue[sentence]\n",
    "    \n",
    "# Average value of a sentence from the original text\n",
    "avg = int(sumValues / len(sentenceValue))\n",
    "\n",
    "# Storing sentences in the summary\n",
    "summary = ''\n",
    "for sentence in sentences:\n",
    "    if (sentence in sentenceValue) and (sentenceValue[sentence] > (1.2 * avg)):\n",
    "        summary += \" \" + sentence\n",
    "print(summary) "
   ]
  },
  {
   "cell_type": "code",
   "execution_count": null,
   "metadata": {},
   "outputs": [],
   "source": []
  }
 ],
 "metadata": {
  "kernelspec": {
   "display_name": "ML",
   "language": "python",
   "name": "ml"
  },
  "language_info": {
   "codemirror_mode": {
    "name": "ipython",
    "version": 3
   },
   "file_extension": ".py",
   "mimetype": "text/x-python",
   "name": "python",
   "nbconvert_exporter": "python",
   "pygments_lexer": "ipython3",
   "version": "3.8.5"
  }
 },
 "nbformat": 4,
 "nbformat_minor": 4
}
