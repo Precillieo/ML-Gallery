{
 "cells": [
  {
   "cell_type": "code",
   "execution_count": 1,
   "metadata": {
    "_cell_guid": "b1076dfc-b9ad-4769-8c92-a6c4dae69d19",
    "_uuid": "8f2839f25d086af736a60e9eeb907d3b93b6e0e5",
    "execution": {
     "iopub.execute_input": "2021-10-09T11:41:32.479208Z",
     "iopub.status.busy": "2021-10-09T11:41:32.478900Z",
     "iopub.status.idle": "2021-10-09T11:41:44.667720Z",
     "shell.execute_reply": "2021-10-09T11:41:44.666908Z",
     "shell.execute_reply.started": "2021-10-09T11:41:32.479129Z"
    }
   },
   "outputs": [],
   "source": [
    "!pip install -U transformers"
   ]
  },
  {
   "cell_type": "code",
   "execution_count": 2,
   "metadata": {
    "execution": {
     "iopub.execute_input": "2021-10-09T11:41:44.674482Z",
     "iopub.status.busy": "2021-10-09T11:41:44.671062Z",
     "iopub.status.idle": "2021-10-09T11:41:54.945750Z",
     "shell.execute_reply": "2021-10-09T11:41:54.944723Z",
     "shell.execute_reply.started": "2021-10-09T11:41:44.674441Z"
    }
   },
   "outputs": [],
   "source": [
    "!pip install -U tensorflow_datasets"
   ]
  },
  {
   "cell_type": "code",
   "execution_count": 3,
   "metadata": {
    "execution": {
     "iopub.execute_input": "2021-10-09T11:41:54.949265Z",
     "iopub.status.busy": "2021-10-09T11:41:54.949045Z",
     "iopub.status.idle": "2021-10-09T11:41:59.251104Z",
     "shell.execute_reply": "2021-10-09T11:41:59.250230Z",
     "shell.execute_reply.started": "2021-10-09T11:41:54.949237Z"
    }
   },
   "outputs": [],
   "source": [
    "import tensorflow as tf"
   ]
  },
  {
   "cell_type": "code",
   "execution_count": 4,
   "metadata": {
    "execution": {
     "iopub.execute_input": "2021-10-09T11:41:59.253455Z",
     "iopub.status.busy": "2021-10-09T11:41:59.253235Z",
     "iopub.status.idle": "2021-10-09T11:41:59.408527Z",
     "shell.execute_reply": "2021-10-09T11:41:59.407404Z",
     "shell.execute_reply.started": "2021-10-09T11:41:59.253430Z"
    }
   },
   "outputs": [],
   "source": [
    "gpus_available = len(tf.config.experimental.list_physical_devices('GPU'))\n",
    "print('GPU Available: ', gpus_available)\n",
    "assert gpus_available > 0"
   ]
  },
  {
   "cell_type": "code",
   "execution_count": 5,
   "metadata": {
    "execution": {
     "iopub.execute_input": "2021-10-09T11:41:59.410541Z",
     "iopub.status.busy": "2021-10-09T11:41:59.409976Z",
     "iopub.status.idle": "2021-10-09T11:42:04.117742Z",
     "shell.execute_reply": "2021-10-09T11:42:04.116962Z",
     "shell.execute_reply.started": "2021-10-09T11:41:59.410502Z"
    }
   },
   "outputs": [],
   "source": [
    "from transformers import DistilBertTokenizerFast # DistilBERT\n",
    "from transformers import TFDistilBertForSequenceClassification\n",
    "import pandas as pd\n",
    "import numpy as np"
   ]
  },
  {
   "cell_type": "markdown",
   "metadata": {},
   "source": [
    "### NLP Based Tools\n"
   ]
  },
  {
   "cell_type": "code",
   "execution_count": 6,
   "metadata": {
    "execution": {
     "iopub.execute_input": "2021-10-09T11:42:04.121071Z",
     "iopub.status.busy": "2021-10-09T11:42:04.119032Z",
     "iopub.status.idle": "2021-10-09T11:42:05.233008Z",
     "shell.execute_reply": "2021-10-09T11:42:05.232191Z",
     "shell.execute_reply.started": "2021-10-09T11:42:04.121040Z"
    }
   },
   "outputs": [],
   "source": [
    "import nltk\n",
    "import re\n",
    "nltk.download('stopwords')\n",
    "from nltk.corpus import stopwords\n",
    "from nltk.stem.porter import PorterStemmer"
   ]
  },
  {
   "cell_type": "markdown",
   "metadata": {},
   "source": [
    "## Amazon Review Dataset"
   ]
  },
  {
   "cell_type": "code",
   "execution_count": 7,
   "metadata": {
    "execution": {
     "iopub.execute_input": "2021-10-09T11:42:05.234953Z",
     "iopub.status.busy": "2021-10-09T11:42:05.234400Z",
     "iopub.status.idle": "2021-10-09T11:43:52.485487Z",
     "shell.execute_reply": "2021-10-09T11:43:52.484744Z",
     "shell.execute_reply.started": "2021-10-09T11:42:05.234914Z"
    }
   },
   "outputs": [],
   "source": [
    "import tensorflow_datasets as tfds\n",
    "ds = tfds.load('amazon_us_reviews/Mobile_Electronics_v1_00', split='train', shuffle_files=True)\n",
    "\n",
    "assert isinstance(ds, tf.data.Dataset) # Check if dataset if Wrapped under tf.data.Dataset\n",
    "print(ds)"
   ]
  },
  {
   "cell_type": "code",
   "execution_count": 8,
   "metadata": {
    "execution": {
     "iopub.execute_input": "2021-10-09T11:43:52.487474Z",
     "iopub.status.busy": "2021-10-09T11:43:52.486992Z",
     "iopub.status.idle": "2021-10-09T11:44:45.684264Z",
     "shell.execute_reply": "2021-10-09T11:44:45.683543Z",
     "shell.execute_reply.started": "2021-10-09T11:43:52.487437Z"
    }
   },
   "outputs": [],
   "source": [
    "df = tfds.as_dataframe(ds)\n",
    "df.head()"
   ]
  },
  {
   "cell_type": "code",
   "execution_count": 9,
   "metadata": {
    "execution": {
     "iopub.execute_input": "2021-10-09T11:44:45.685960Z",
     "iopub.status.busy": "2021-10-09T11:44:45.685692Z",
     "iopub.status.idle": "2021-10-09T11:44:45.729763Z",
     "shell.execute_reply": "2021-10-09T11:44:45.729108Z",
     "shell.execute_reply.started": "2021-10-09T11:44:45.685926Z"
    }
   },
   "outputs": [],
   "source": [
    "# Giving negative and positive to Sentiment\n",
    "df[\"Sentiment\"] = df[\"data/star_rating\"].apply(lambda score: \"positive\" if score >= 3 else \"negative\")\n",
    "df['Sentiment'] = df['Sentiment'].map({'positive':1, 'negative':0})"
   ]
  },
  {
   "cell_type": "code",
   "execution_count": 10,
   "metadata": {
    "execution": {
     "iopub.execute_input": "2021-10-09T11:44:45.732861Z",
     "iopub.status.busy": "2021-10-09T11:44:45.732619Z",
     "iopub.status.idle": "2021-10-09T11:44:45.837885Z",
     "shell.execute_reply": "2021-10-09T11:44:45.837110Z",
     "shell.execute_reply.started": "2021-10-09T11:44:45.732829Z"
    }
   },
   "outputs": [],
   "source": [
    "df['short_review'] = df['data/review_body'].str.decode('utf-8')"
   ]
  },
  {
   "cell_type": "code",
   "execution_count": 11,
   "metadata": {
    "execution": {
     "iopub.execute_input": "2021-10-09T11:44:45.839782Z",
     "iopub.status.busy": "2021-10-09T11:44:45.838991Z",
     "iopub.status.idle": "2021-10-09T11:44:45.914175Z",
     "shell.execute_reply": "2021-10-09T11:44:45.913394Z",
     "shell.execute_reply.started": "2021-10-09T11:44:45.839736Z"
    }
   },
   "outputs": [],
   "source": [
    "df = df[['short_review', 'Sentiment']]"
   ]
  },
  {
   "cell_type": "code",
   "execution_count": 12,
   "metadata": {
    "execution": {
     "iopub.execute_input": "2021-10-09T11:44:45.916049Z",
     "iopub.status.busy": "2021-10-09T11:44:45.915599Z",
     "iopub.status.idle": "2021-10-09T11:44:45.925407Z",
     "shell.execute_reply": "2021-10-09T11:44:45.924563Z",
     "shell.execute_reply.started": "2021-10-09T11:44:45.916010Z"
    }
   },
   "outputs": [],
   "source": [
    "df.head()"
   ]
  },
  {
   "cell_type": "code",
   "execution_count": 13,
   "metadata": {
    "execution": {
     "iopub.execute_input": "2021-10-09T11:44:45.927151Z",
     "iopub.status.busy": "2021-10-09T11:44:45.926873Z",
     "iopub.status.idle": "2021-10-09T11:44:45.957763Z",
     "shell.execute_reply": "2021-10-09T11:44:45.957010Z",
     "shell.execute_reply.started": "2021-10-09T11:44:45.927119Z"
    }
   },
   "outputs": [],
   "source": [
    "# Drop Last N rows \n",
    "N = 54975\n",
    "df.drop(df.tail(N).index, inplace=True)"
   ]
  },
  {
   "cell_type": "code",
   "execution_count": 14,
   "metadata": {
    "execution": {
     "iopub.execute_input": "2021-10-09T11:44:45.959459Z",
     "iopub.status.busy": "2021-10-09T11:44:45.958842Z",
     "iopub.status.idle": "2021-10-09T11:44:45.964925Z",
     "shell.execute_reply": "2021-10-09T11:44:45.964005Z",
     "shell.execute_reply.started": "2021-10-09T11:44:45.959422Z"
    }
   },
   "outputs": [],
   "source": [
    "index = df.index\n",
    "no_of_rows = len(index)\n",
    "print(no_of_rows)"
   ]
  },
  {
   "cell_type": "code",
   "execution_count": 15,
   "metadata": {
    "execution": {
     "iopub.execute_input": "2021-10-09T11:44:45.967018Z",
     "iopub.status.busy": "2021-10-09T11:44:45.966319Z",
     "iopub.status.idle": "2021-10-09T11:44:45.981613Z",
     "shell.execute_reply": "2021-10-09T11:44:45.980677Z",
     "shell.execute_reply.started": "2021-10-09T11:44:45.966981Z"
    }
   },
   "outputs": [],
   "source": [
    "df.tail()"
   ]
  },
  {
   "cell_type": "code",
   "execution_count": 16,
   "metadata": {
    "execution": {
     "iopub.execute_input": "2021-10-09T11:44:45.984537Z",
     "iopub.status.busy": "2021-10-09T11:44:45.984324Z",
     "iopub.status.idle": "2021-10-09T11:44:45.990847Z",
     "shell.execute_reply": "2021-10-09T11:44:45.989942Z",
     "shell.execute_reply.started": "2021-10-09T11:44:45.984514Z"
    }
   },
   "outputs": [],
   "source": [
    "# Split into reviews and labels\n",
    "reviews = df['short_review'].values.tolist()\n",
    "labels = df['Sentiment'].tolist()"
   ]
  },
  {
   "cell_type": "code",
   "execution_count": 17,
   "metadata": {
    "execution": {
     "iopub.execute_input": "2021-10-09T11:44:45.992708Z",
     "iopub.status.busy": "2021-10-09T11:44:45.992081Z",
     "iopub.status.idle": "2021-10-09T11:44:46.001308Z",
     "shell.execute_reply": "2021-10-09T11:44:46.000530Z",
     "shell.execute_reply.started": "2021-10-09T11:44:45.992647Z"
    }
   },
   "outputs": [],
   "source": [
    "print(reviews[:2])"
   ]
  },
  {
   "cell_type": "code",
   "execution_count": 18,
   "metadata": {
    "execution": {
     "iopub.execute_input": "2021-10-09T11:44:46.003147Z",
     "iopub.status.busy": "2021-10-09T11:44:46.002532Z",
     "iopub.status.idle": "2021-10-09T11:44:46.010400Z",
     "shell.execute_reply": "2021-10-09T11:44:46.009541Z",
     "shell.execute_reply.started": "2021-10-09T11:44:46.003110Z"
    }
   },
   "outputs": [],
   "source": [
    "print(labels[:2])"
   ]
  },
  {
   "cell_type": "code",
   "execution_count": 19,
   "metadata": {
    "execution": {
     "iopub.execute_input": "2021-10-09T11:44:46.012166Z",
     "iopub.status.busy": "2021-10-09T11:44:46.011880Z",
     "iopub.status.idle": "2021-10-09T11:44:46.049767Z",
     "shell.execute_reply": "2021-10-09T11:44:46.049082Z",
     "shell.execute_reply.started": "2021-10-09T11:44:46.012131Z"
    }
   },
   "outputs": [],
   "source": [
    "# Split into train and test\n",
    "from sklearn.model_selection import train_test_split\n",
    "train_texts, val_texts, train_labels, val_labels = train_test_split(reviews, labels, test_size=0.2)"
   ]
  },
  {
   "cell_type": "markdown",
   "metadata": {},
   "source": [
    "### Tokenizer\n",
    "We are using `DistilBERTTokenizer` as from pretrained `DistilBert` Model."
   ]
  },
  {
   "cell_type": "code",
   "execution_count": 20,
   "metadata": {
    "execution": {
     "iopub.execute_input": "2021-10-09T11:44:46.051155Z",
     "iopub.status.busy": "2021-10-09T11:44:46.050758Z",
     "iopub.status.idle": "2021-10-09T11:44:50.611762Z",
     "shell.execute_reply": "2021-10-09T11:44:50.611059Z",
     "shell.execute_reply.started": "2021-10-09T11:44:46.051120Z"
    }
   },
   "outputs": [],
   "source": [
    "tokenizer = DistilBertTokenizerFast.from_pretrained('distilbert-base-uncased')"
   ]
  },
  {
   "cell_type": "code",
   "execution_count": 21,
   "metadata": {
    "execution": {
     "iopub.execute_input": "2021-10-09T11:44:50.613359Z",
     "iopub.status.busy": "2021-10-09T11:44:50.612998Z",
     "iopub.status.idle": "2021-10-09T11:44:50.623736Z",
     "shell.execute_reply": "2021-10-09T11:44:50.622923Z",
     "shell.execute_reply.started": "2021-10-09T11:44:50.613323Z"
    }
   },
   "outputs": [],
   "source": [
    "tokenizer([train_texts[0]], truncation=True, padding=True, max_length=128)"
   ]
  },
  {
   "cell_type": "markdown",
   "metadata": {},
   "source": [
    "### Prepare Encodings"
   ]
  },
  {
   "cell_type": "code",
   "execution_count": 22,
   "metadata": {
    "execution": {
     "iopub.execute_input": "2021-10-09T11:44:50.625892Z",
     "iopub.status.busy": "2021-10-09T11:44:50.625214Z",
     "iopub.status.idle": "2021-10-09T11:45:06.696187Z",
     "shell.execute_reply": "2021-10-09T11:45:06.695173Z",
     "shell.execute_reply.started": "2021-10-09T11:44:50.625852Z"
    }
   },
   "outputs": [],
   "source": [
    "train_encodings = tokenizer(train_texts, truncation=True, padding=True)\n",
    "val_encodings = tokenizer(val_texts, truncation=True, padding=True)"
   ]
  },
  {
   "cell_type": "code",
   "execution_count": 23,
   "metadata": {
    "execution": {
     "iopub.execute_input": "2021-10-09T11:45:06.697652Z",
     "iopub.status.busy": "2021-10-09T11:45:06.697388Z",
     "iopub.status.idle": "2021-10-09T11:47:39.220198Z",
     "shell.execute_reply": "2021-10-09T11:47:39.219388Z",
     "shell.execute_reply.started": "2021-10-09T11:45:06.697619Z"
    }
   },
   "outputs": [],
   "source": [
    "# Make Dataset from these Encodings\n",
    "train_dataset = tf.data.Dataset.from_tensor_slices((dict(train_encodings), train_labels))\n",
    "\n",
    "val_dataset = tf.data.Dataset.from_tensor_slices((dict(val_encodings), val_labels))"
   ]
  },
  {
   "cell_type": "markdown",
   "metadata": {},
   "source": [
    "### Model\n",
    "A Pretrained `DistilBERT` is used for this. From the Transformers module we use `TFDistilBertForSequenceClassification`."
   ]
  },
  {
   "cell_type": "code",
   "execution_count": 24,
   "metadata": {
    "execution": {
     "iopub.execute_input": "2021-10-09T11:47:39.221898Z",
     "iopub.status.busy": "2021-10-09T11:47:39.221621Z",
     "iopub.status.idle": "2021-10-09T11:47:59.219120Z",
     "shell.execute_reply": "2021-10-09T11:47:59.218235Z",
     "shell.execute_reply.started": "2021-10-09T11:47:39.221863Z"
    }
   },
   "outputs": [],
   "source": [
    "model = TFDistilBertForSequenceClassification.from_pretrained('distilbert-base-uncased', num_labels = 2)"
   ]
  },
  {
   "cell_type": "code",
   "execution_count": 25,
   "metadata": {
    "execution": {
     "iopub.execute_input": "2021-10-09T11:47:59.221187Z",
     "iopub.status.busy": "2021-10-09T11:47:59.220709Z",
     "iopub.status.idle": "2021-10-09T12:35:27.344433Z",
     "shell.execute_reply": "2021-10-09T12:35:27.342849Z",
     "shell.execute_reply.started": "2021-10-09T11:47:59.221145Z"
    }
   },
   "outputs": [],
   "source": [
    "optimizer = tf.keras.optimizers.Adam(learning_rate=5e-5, epsilon=1e-08)\n",
    "model.compile(optimizer=optimizer, loss=model.compute_loss, metrics=['accuracy'])\n",
    "\n",
    "model.fit(train_dataset.shuffle(100).batch(16), epochs=2, batch_size=16, validation_data=val_dataset.shuffle(100).batch(16))"
   ]
  },
  {
   "cell_type": "code",
   "execution_count": 26,
   "metadata": {
    "execution": {
     "iopub.execute_input": "2021-10-09T12:41:25.804399Z",
     "iopub.status.busy": "2021-10-09T12:41:25.804138Z",
     "iopub.status.idle": "2021-10-09T12:41:26.318645Z",
     "shell.execute_reply": "2021-10-09T12:41:26.317881Z",
     "shell.execute_reply.started": "2021-10-09T12:41:25.804372Z"
    }
   },
   "outputs": [],
   "source": [
    "model.save_pretrained('./sentiment')"
   ]
  },
  {
   "cell_type": "code",
   "execution_count": 27,
   "metadata": {
    "execution": {
     "iopub.execute_input": "2021-10-09T12:41:51.373501Z",
     "iopub.status.busy": "2021-10-09T12:41:51.373242Z",
     "iopub.status.idle": "2021-10-09T12:41:51.900632Z",
     "shell.execute_reply": "2021-10-09T12:41:51.899964Z",
     "shell.execute_reply.started": "2021-10-09T12:41:51.373472Z"
    }
   },
   "outputs": [],
   "source": [
    "loaded_model = TFDistilBertForSequenceClassification.from_pretrained('./sentiment')"
   ]
  },
  {
   "cell_type": "code",
   "execution_count": 29,
   "metadata": {
    "execution": {
     "iopub.execute_input": "2021-10-09T12:44:46.275816Z",
     "iopub.status.busy": "2021-10-09T12:44:46.275525Z",
     "iopub.status.idle": "2021-10-09T12:44:46.327073Z",
     "shell.execute_reply": "2021-10-09T12:44:46.326318Z",
     "shell.execute_reply.started": "2021-10-09T12:44:46.275758Z"
    }
   },
   "outputs": [],
   "source": [
    "test_sentence = \"This is a really good product. I really love it.\"\n",
    "\n",
    "predict_input = tokenizer.encode(test_sentence, truncation=True, padding=True, return_tensors=\"tf\")\n",
    "tf_output = loaded_model.predict(predict_input)[0]\n",
    "\n",
    "tf_prediction = tf.nn.softmax(tf_output, axis=1)\n",
    "labels = ['Negative', 'Positive']\n",
    "label = tf.argmax(tf_prediction, axis=1)\n",
    "label = label.numpy()\n",
    "print(labels[label[0]])"
   ]
  },
  {
   "cell_type": "code",
   "execution_count": null,
   "metadata": {},
   "outputs": [],
   "source": []
  }
 ],
 "metadata": {
  "kernelspec": {
   "display_name": "Python 3",
   "language": "python",
   "name": "python3"
  },
  "language_info": {
   "codemirror_mode": {
    "name": "ipython",
    "version": 3
   },
   "file_extension": ".py",
   "mimetype": "text/x-python",
   "name": "python",
   "nbconvert_exporter": "python",
   "pygments_lexer": "ipython3",
   "version": "3.8.5"
  }
 },
 "nbformat": 4,
 "nbformat_minor": 4
}
